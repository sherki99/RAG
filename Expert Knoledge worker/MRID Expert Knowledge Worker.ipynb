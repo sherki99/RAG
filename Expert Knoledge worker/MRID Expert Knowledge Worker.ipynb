{
 "cells": [
  {
   "cell_type": "markdown",
   "id": "dfe37963-1af6-44fc-a841-8e462443f5e6",
   "metadata": {},
   "source": [
    "## Expert Knowledge Worker"
   ]
  },
  {
   "cell_type": "code",
   "execution_count": 3,
   "id": "ba2779af-84ef-4227-9e9e-6eaf0df87e77",
   "metadata": {},
   "outputs": [],
   "source": [
    "# imports\n",
    "import os\n",
    "import glob\n",
    "from dotenv import load_dotenv\n",
    "import gradio as gr"
   ]
  },
  {
   "cell_type": "code",
   "execution_count": 4,
   "id": "802137aa-8a74-45e0-a487-d1974927d7ca",
   "metadata": {},
   "outputs": [],
   "source": [
    "# imports for langchain\n",
    "from langchain.document_loaders import DirectoryLoader, TextLoader\n",
    "from langchain.text_splitter import CharacterTextSplitter\n",
    "from langchain.schema import Document\n",
    "from langchain_openai import OpenAIEmbeddings, ChatOpenAI\n",
    "\n",
    "# from langchain_chroma import Chroma\n",
    "from langchain.vectorstores import FAISS\n",
    "import numpy as np\n",
    "from sklearn.manifold import TSNE\n",
    "import plotly.graph_objects as go\n",
    "from langchain.memory import ConversationBufferMemory  \n",
    "from langchain.chains import ConversationalRetrievalChain"
   ]
  },
  {
   "cell_type": "code",
   "execution_count": 5,
   "id": "58c85082-e417-4708-9efe-81a5d55d1424",
   "metadata": {},
   "outputs": [],
   "source": [
    "# price is a factor for our company, so we're going to use a low cost model\n",
    "MODEL = \"gpt-4o-mini\"\n",
    "db_name = \"vector_db\""
   ]
  },
  {
   "cell_type": "code",
   "execution_count": 6,
   "id": "ee78efcb-60fe-449e-a944-40bab26261af",
   "metadata": {},
   "outputs": [],
   "source": [
    "# Load environment variables in a file called .env\n",
    "\n",
    "load_dotenv()\n",
    "os.environ['OPENAI_API_KEY'] = os.getenv('OPENAI_API_KEY', 'your-key-if-not-using-env')"
   ]
  },
  {
   "cell_type": "code",
   "execution_count": 8,
   "id": "730711a9-6ffe-4eee-8f48-d6cfb7314905",
   "metadata": {},
   "outputs": [],
   "source": [
    "# Read in documents using LangChain's loaders\n",
    "# Take everything in all the sub-folders of our knowledgebase\n",
    "\n",
    "folders = glob.glob(\"knowledge-base/*\")\n",
    "text_loader_kwargs = {'encoding': 'utf-8'}\n",
    "# If that doesn't work, some Windows users might need to uncomment the next line instead\n",
    "# text_loader_kwargs={'autodetect_encoding': True}\n",
    "\n",
    "documents = []\n",
    "for folder in folders:\n",
    "    doc_type = os.path.basename(folder)\n",
    "    loader = DirectoryLoader(folder, glob=\"**/*.md\", loader_cls=TextLoader, loader_kwargs=text_loader_kwargs)\n",
    "    folder_docs = loader.load()\n",
    "    for doc in folder_docs:\n",
    "        doc.metadata[\"doc_type\"] = doc_type\n",
    "        documents.append(doc)"
   ]
  },
  {
   "cell_type": "code",
   "execution_count": 9,
   "id": "7310c9c8-03c1-4efc-a104-5e89aec6db1a",
   "metadata": {},
   "outputs": [
    {
     "name": "stderr",
     "output_type": "stream",
     "text": [
      "Created a chunk of size 1088, which is longer than the specified 1000\n"
     ]
    }
   ],
   "source": [
    "text_splitter = CharacterTextSplitter(chunk_size=1000, chunk_overlap=200)\n",
    "chunks = text_splitter.split_documents(documents)"
   ]
  },
  {
   "cell_type": "code",
   "execution_count": 10,
   "id": "cd06e02f-6d9b-44cc-a43d-e1faa8acc7bb",
   "metadata": {},
   "outputs": [
    {
     "data": {
      "text/plain": [
       "123"
      ]
     },
     "execution_count": 10,
     "metadata": {},
     "output_type": "execute_result"
    }
   ],
   "source": [
    "len(chunks)"
   ]
  },
  {
   "cell_type": "code",
   "execution_count": 11,
   "id": "2c54b4b6-06da-463d-bee7-4dd456c2b887",
   "metadata": {},
   "outputs": [
    {
     "name": "stdout",
     "output_type": "stream",
     "text": [
      "Document types found: employees, products, company, contracts\n"
     ]
    }
   ],
   "source": [
    "doc_types = set(chunk.metadata['doc_type'] for chunk in chunks)\n",
    "print(f\"Document types found: {', '.join(doc_types)}\")"
   ]
  },
  {
   "cell_type": "code",
   "execution_count": 13,
   "id": "78998399-ac17-4e28-b15f-0b5f51e6ee23",
   "metadata": {},
   "outputs": [
    {
     "name": "stdout",
     "output_type": "stream",
     "text": [
      "There are 123 vectors with 1,536 dimensions in the vector store\n"
     ]
    }
   ],
   "source": [
    "# Put the chunks of data into a Vector Store that associates a Vector Embedding with each chunk\n",
    "embeddings = OpenAIEmbeddings()\n",
    "\n",
    "# now i start using faiss insted of chroma \n",
    "vectorstore = FAISS.from_documents(chunks, embedding=embeddings)\n",
    "\n",
    "total_vectors = vectorstore.index.ntotal\n",
    "dimensions = vectorstore.index.d\n",
    "\n",
    "print(f\"There are {total_vectors} vectors with {dimensions:,} dimensions in the vector store\")"
   ]
  },
  {
   "cell_type": "code",
   "execution_count": 14,
   "id": "057868f6-51a6-4087-94d1-380145821550",
   "metadata": {},
   "outputs": [],
   "source": [
    "# Prework\n",
    "vectors = []\n",
    "documents = []\n",
    "doc_types = []\n",
    "colors = []\n",
    "color_map = {'products':'blue', 'employees':'green', 'contracts':'red', 'company':'orange'}\n",
    "\n",
    "for i in range(total_vectors):\n",
    "    vectors.append(vectorstore.index.reconstruct(i))\n",
    "    doc_id = vectorstore.index_to_docstore_id[i]\n",
    "    document = vectorstore.docstore.search(doc_id)\n",
    "    documents.append(document.page_content)\n",
    "    doc_type = document.metadata['doc_type']\n",
    "    doc_types.append(doc_type)\n",
    "    colors.append(color_map[doc_type])\n",
    "    \n",
    "vectors = np.array(vectors)"
   ]
  },
  {
   "cell_type": "markdown",
   "id": "b0d45462-a818-441c-b010-b85b32bcf618",
   "metadata": {},
   "source": [
    "## Visualizing the Vector Store\n"
   ]
  },
  {
   "cell_type": "code",
   "execution_count": 16,
   "id": "427149d5-e5d8-4abd-bb6f-7ef0333cca21",
   "metadata": {},
   "outputs": [
    {
     "data": {
      "application/vnd.plotly.v1+json": {
       "config": {
        "plotlyServerURL": "https://plot.ly"
       },
       "data": [
        {
         "hoverinfo": "text",
         "marker": {
          "color": [
           "orange",
           "orange",
           "orange",
           "red",
           "red",
           "red",
           "red",
           "red",
           "red",
           "red",
           "red",
           "red",
           "red",
           "red",
           "red",
           "red",
           "red",
           "red",
           "red",
           "red",
           "red",
           "red",
           "red",
           "red",
           "red",
           "red",
           "red",
           "red",
           "red",
           "red",
           "red",
           "red",
           "red",
           "red",
           "red",
           "red",
           "red",
           "red",
           "red",
           "red",
           "red",
           "red",
           "red",
           "red",
           "red",
           "red",
           "red",
           "red",
           "red",
           "red",
           "red",
           "red",
           "red",
           "red",
           "red",
           "green",
           "green",
           "green",
           "green",
           "green",
           "green",
           "green",
           "green",
           "green",
           "green",
           "green",
           "green",
           "green",
           "green",
           "green",
           "green",
           "green",
           "green",
           "green",
           "green",
           "green",
           "green",
           "green",
           "green",
           "green",
           "green",
           "green",
           "green",
           "green",
           "green",
           "green",
           "green",
           "green",
           "green",
           "green",
           "green",
           "green",
           "green",
           "green",
           "green",
           "green",
           "green",
           "green",
           "green",
           "green",
           "green",
           "green",
           "blue",
           "blue",
           "blue",
           "blue",
           "blue",
           "blue",
           "blue",
           "blue",
           "blue",
           "blue",
           "blue",
           "blue",
           "blue",
           "blue",
           "blue",
           "blue",
           "blue",
           "blue",
           "blue",
           "blue",
           "blue"
          ],
          "opacity": 0.8,
          "size": 5
         },
         "mode": "markers",
         "text": [
          "Type: company<br>Text: # About Insurellm\n\nInsurellm was founded by Avery Lancaster in 2015 as an insurance tech startup des...",
          "Type: company<br>Text: # Careers at Insurellm\n\nInsurellm is hiring! We are looking for talented software engineers, data sc...",
          "Type: company<br>Text: # Overview of Insurellm\n\nInsurellm is an innovative insurance tech firm with 200 employees across th...",
          "Type: contracts<br>Text: # Contract with Apex Reinsurance for Rellm: AI-Powered Enterprise Reinsurance Solution\n\n## Terms\n\n1....",
          "Type: contracts<br>Text: ## Renewal\n\n1. **Automatic Renewal**: This Agreement will automatically renew for successive one-yea...",
          "Type: contracts<br>Text: 2. **Seamless Integrations**: The architecture of Rellm allows for easy integration with existing sy...",
          "Type: contracts<br>Text: 1. **Technical Support**: Provider shall offer dedicated technical support to the Client via phone, ...",
          "Type: contracts<br>Text: **Insurellm, Inc.**  \n_____________________________  \nAuthorized Signature   \nDate: ________________...",
          "Type: contracts<br>Text: # Contract with Belvedere Insurance for Markellm\n\n## Terms\nThis Contract (\"Agreement\") is made and e...",
          "Type: contracts<br>Text: ## Renewal\n1. **Renewal Terms**: This Agreement may be renewed for additional one-year terms upon mu...",
          "Type: contracts<br>Text: ## Features\n1. **AI-Powered Matching**: Belvedere Insurance will benefit from Markellm's AI-powered ...",
          "Type: contracts<br>Text: ## Support\n1. **Technical Support**: Technical support will be available from 9 AM to 7 PM EST, Mond...",
          "Type: contracts<br>Text: **Belvedere Insurance**  \nSignature: ______________________  \nName: [Authorized Signatory]  \nTitle: ...",
          "Type: contracts<br>Text: # Contract with BrightWay Solutions for Markellm\n\n**Contract Date:** October 5, 2023  \n**Contract ID...",
          "Type: contracts<br>Text: 3. **Service Level Agreement (SLA):**  \n   Insurellm commits to a 99.9% uptime for the platform with...",
          "Type: contracts<br>Text: 2. **Real-Time Quote Availability:**  \n   Consumers sourced via BrightWay Solutions will receive rea...",
          "Type: contracts<br>Text: 3. **Training and Onboarding:**  \n   Insurellm agrees to provide one free training session on how to...",
          "Type: contracts<br>Text: # Contract with EverGuard Insurance for Rellm: AI-Powered Enterprise Reinsurance Solution\n\n**Contrac...",
          "Type: contracts<br>Text: 4. **Usage Rights**: EverGuard Insurance is granted a non-exclusive, non-transferable license to acc...",
          "Type: contracts<br>Text: 1. **Core Functionality**: Rellm provides EverGuard Insurance with advanced AI-driven analytics, sea...",
          "Type: contracts<br>Text: 1. **Customer Support**: Insurellm will provide EverGuard Insurance with 24/7 customer support, incl...",
          "Type: contracts<br>Text: ---\n\n**Signatures**  \n**For Insurellm**: __________________________  \n**Name**: John Smith  \n**Title...",
          "Type: contracts<br>Text: # Contract with GreenField Holdings for Markellm\n\n**Effective Date:** November 15, 2023  \n**Contract...",
          "Type: contracts<br>Text: ## Renewal\n1. **Automatic Renewal**: This contract will automatically renew for sequential one-year ...",
          "Type: contracts<br>Text: ## Features\n1. **AI-Powered Matching**: Access to advanced algorithms that connect GreenField Holdin...",
          "Type: contracts<br>Text: ## Support\n1. **Customer Support Access**: The Client will have access to dedicated support through ...",
          "Type: contracts<br>Text: **Signatures:**  \n_________________________                           _________________________  \n**...",
          "Type: contracts<br>Text: # Contract with Greenstone Insurance for Homellm\n\n---\n\n## Terms\n\n1. **Parties**: This Contract (\"Agr...",
          "Type: contracts<br>Text: 4. **Payment Terms**: \n   - The Customer shall pay an amount of $10,000 per month for the Standard T...",
          "Type: contracts<br>Text: ---\n\n## Features\n\n- **AI-Powered Risk Assessment**: Customer will have access to enhanced risk evalu...",
          "Type: contracts<br>Text: - **Customer Portal**: A dedicated portal will be provided, allowing the Customer's clients to manag...",
          "Type: contracts<br>Text: ______________________________  \n[Name], [Title]  \nDate: ______________________\n\n**For Greenstone In...",
          "Type: contracts<br>Text: # Contract with GreenValley Insurance for Homellm\n\n**Contract Date:** October 6, 2023  \n**Contract N...",
          "Type: contracts<br>Text: 4. **Confidentiality:** Both parties agree to maintain the confidentiality of proprietary informatio...",
          "Type: contracts<br>Text: 1. **AI-Powered Risk Assessment:** Access to advanced AI algorithms for real-time risk evaluations.\n...",
          "Type: contracts<br>Text: 3. **Regular Updates:** Insurellm will offer ongoing updates and enhancements to the Homellm platfor...",
          "Type: contracts<br>Text: # Contract with Pinnacle Insurance Co. for Homellm\n\n## Terms\nThis contract (\"Contract\") is entered i...",
          "Type: contracts<br>Text: ## Renewal\n1. **Renewal Terms**: At the end of the initial term, this Contract shall automatically r...",
          "Type: contracts<br>Text: ## Features\n1. **AI-Powered Risk Assessment**: Utilized for tailored underwriting decisions specific...",
          "Type: contracts<br>Text: ## Support\n1. **Technical Support**: Insurellm shall provide 24/7 technical support via an email and...",
          "Type: contracts<br>Text: # Contract with Roadway Insurance Inc. for Carllm\n\n---\n\n## Terms\n\n1. **Agreement Effective Date**: T...",
          "Type: contracts<br>Text: ---\n\n## Renewal\n\n1. **Automatic Renewal**: This agreement will automatically renew for an additional...",
          "Type: contracts<br>Text: ---\n\n## Features\n\n1. **Access to Core Features**: Roadway Insurance Inc. will have access to all Pro...",
          "Type: contracts<br>Text: ---\n\n## Support\n\n1. **Technical Support**: Roadway Insurance Inc. will receive priority technical su...",
          "Type: contracts<br>Text: # Contract with Stellar Insurance Co. for Rellm\n\n## Terms\nThis contract is made between **Insurellm*...",
          "Type: contracts<br>Text: ### Termination\nEither party may terminate this agreement with a **30-day written notice**. In the e...",
          "Type: contracts<br>Text: ## Features\nStellar Insurance Co. will receive access to the following features of the Rellm product...",
          "Type: contracts<br>Text: ## Support\nInsurellm provides Stellar Insurance Co. with the following support services:\n\n- **24/7 T...",
          "Type: contracts<br>Text: # Contract with TechDrive Insurance for Carllm\n\n**Contract Date:** October 1, 2024  \n**Contract Dura...",
          "Type: contracts<br>Text: ## Renewal\n\n1. **Automatic Renewal**: This contract shall automatically renew for additional one-yea...",
          "Type: contracts<br>Text: ## Support\n\n1. **Customer Support**: Insurellm will provide 24/7 customer support to TechDrive Insur...",
          "Type: contracts<br>Text: **TechDrive Insurance Representative:**  \nName: Sarah Johnson  \nTitle: Operations Director  \nDate: _...",
          "Type: contracts<br>Text: # Contract with Velocity Auto Solutions for Carllm\n\n**Contract Date:** October 1, 2023  \n**Contract ...",
          "Type: contracts<br>Text: ## Renewal\n\n1. **Automatic Renewal**: This contract will automatically renew for successive 12-month...",
          "Type: contracts<br>Text: ## Support\n\n1. **Customer Support**: Velocity Auto Solutions will have access to Insurellm’s custome...",
          "Type: employees<br>Text: # HR Record\n\n# Alex Chen\n\n## Summary\n- **Date of Birth:** March 15, 1990  \n- **Job Title:** Backend ...",
          "Type: employees<br>Text: ## Annual Performance History\n- **2020:**  \n  - Completed onboarding successfully.  \n  - Met expecta...",
          "Type: employees<br>Text: ## Compensation History\n- **2020:** Base Salary: $80,000  \n- **2021:** Base Salary Increase to $90,0...",
          "Type: employees<br>Text: Alex Chen continues to be a vital asset at Insurellm, contributing significantly to innovative backe...",
          "Type: employees<br>Text: # HR Record\n\n# Alex Harper\n\n## Summary\n- **Date of Birth**: March 15, 1993  \n- **Job Title**: Sales ...",
          "Type: employees<br>Text: ## Annual Performance History  \n- **2021**:  \n  - **Performance Rating**: 4.5/5  \n  - **Key Achievem...",
          "Type: employees<br>Text: - **2022**:  \n  - **Base Salary**: $65,000 (Promotion to Senior SDR)  \n  - **Bonus**: $13,000 (20% o...",
          "Type: employees<br>Text: # HR Record\n\n# Alex Thomson\n\n## Summary\n- **Date of Birth:** March 15, 1995  \n- **Job Title:** Sales...",
          "Type: employees<br>Text: ## Annual Performance History  \n- **2022** - Rated as \"Exceeds Expectations.\" Alex Thomson achieved ...",
          "Type: employees<br>Text: ## Other HR Notes\n- Alex Thomson is an active member of the Diversity and Inclusion committee at Ins...",
          "Type: employees<br>Text: # Avery Lancaster\n\n## Summary\n- **Date of Birth**: March 15, 1985  \n- **Job Title**: Co-Founder & Ch...",
          "Type: employees<br>Text: - **2010 - 2013**: Business Analyst at Edge Analytics  \n  Prior to joining Innovate, Avery worked as...",
          "Type: employees<br>Text: - **2018**: **Exceeds Expectations**  \n  Under Avery’s pivoted vision, Insurellm launched two new su...",
          "Type: employees<br>Text: - **2022**: **Satisfactory**  \n  Avery focused on rebuilding team dynamics and addressing employee c...",
          "Type: employees<br>Text: ## Compensation History\n- **2015**: $150,000 base salary + Significant equity stake  \n- **2016**: $1...",
          "Type: employees<br>Text: ## Other HR Notes\n- **Professional Development**: Avery has actively participated in leadership trai...",
          "Type: employees<br>Text: # HR Record\n\n# Emily Carter\n\n## Summary\n- **Date of Birth:** August 12, 1990  \n- **Job Title:** Acco...",
          "Type: employees<br>Text: - **2017-2019:** Marketing Intern  \n  - Assisted with market research and campaign development for s...",
          "Type: employees<br>Text: ## Compensation History\n| Year | Base Salary | Bonus         | Total Compensation |\n|------|--------...",
          "Type: employees<br>Text: Emily Carter exemplifies the kind of talent that drives Insurellm's success and is an invaluable ass...",
          "Type: employees<br>Text: # HR Record\n\n# Emily Tran\n\n## Summary\n- **Date of Birth:** March 18, 1991  \n- **Job Title:** Digital...",
          "Type: employees<br>Text: - **January 2017 - May 2018**: Marketing Intern  \n  - Supported the Marketing team by collaborating ...",
          "Type: employees<br>Text: - **2021**:  \n  - Performance Rating: Meets Expectations  \n  - Key Achievements: Contributed to the ...",
          "Type: employees<br>Text: - **Professional Development Goals**:  \n  - Emily Tran aims to become a Marketing Manager within the...",
          "Type: employees<br>Text: # HR Record\n\n# Jordan Blake\n\n## Summary\n- **Date of Birth:** March 15, 1993  \n- **Job Title:** Sales...",
          "Type: employees<br>Text: ## Annual Performance History\n- **2021:** First year at Insurellm; achieved 90% of monthly targets. ...",
          "Type: employees<br>Text: ## Other HR Notes\n- Jordan has shown an interest in continuing education, actively participating in ...",
          "Type: employees<br>Text: # HR Record\n\n# Jordan K. Bishop\n\n## Summary\n- **Date of Birth:** March 15, 1990\n- **Job Title:** Fro...",
          "Type: employees<br>Text: ## Annual Performance History\n- **2019:** Exceeds Expectations - Continuously delivered high-quality...",
          "Type: employees<br>Text: ## Compensation History\n- **June 2018:** Starting Salary - $85,000\n- **June 2019:** Salary Increase ...",
          "Type: employees<br>Text: ## Other HR Notes\n- Jordan K. Bishop has been an integral part of club initiatives, including the In...",
          "Type: employees<br>Text: # HR Record\n\n# Maxine Thompson\n\n## Summary\n- **Date of Birth:** January 15, 1991  \n- **Job Title:** ...",
          "Type: employees<br>Text: ## Insurellm Career Progression\n- **January 2017 - October 2018**: **Junior Data Engineer**  \n  * Ma...",
          "Type: employees<br>Text: ## Annual Performance History\n- **2017**: *Meets Expectations*  \n  Maxine showed potential in her ro...",
          "Type: employees<br>Text: - **2021**: *Exceeds Expectations*  \n  Maxine spearheaded the transition to a new data warehousing s...",
          "Type: employees<br>Text: ## Compensation History\n- **2017**: $70,000 (Junior Data Engineer)  \n- **2018**: $75,000 (Junior Dat...",
          "Type: employees<br>Text: # HR Record\n\n# Oliver Spencer\n\n## Summary\n- **Date of Birth**: May 14, 1990  \n- **Job Title**: Backe...",
          "Type: employees<br>Text: ## Annual Performance History\n- **2018**: **3/5** - Adaptable team player but still learning to take...",
          "Type: employees<br>Text: ## Compensation History\n- **March 2018**: Initial salary of $80,000.\n- **July 2019**: Salary increas...",
          "Type: employees<br>Text: # Samantha Greene\n\n## Summary\n- **Date of Birth:** October 14, 1990\n- **Job Title:** HR Generalist\n-...",
          "Type: employees<br>Text: ## Annual Performance History\n- **2020:** Exceeds Expectations  \n  Samantha Greene demonstrated exce...",
          "Type: employees<br>Text: ## Compensation History\n- **2020:** Base Salary - $55,000  \n  The entry-level salary matched industr...",
          "Type: employees<br>Text: - **2023:** Base Salary - $70,000  \n  Recognized for substantial improvement in employee relations m...",
          "Type: employees<br>Text: # HR Record\n\n# Samuel Trenton\n\n## Summary\n- **Date of Birth:** April 12, 1989  \n- **Job Title:** Sen...",
          "Type: employees<br>Text: ## Annual Performance History\n- **2023:** Rating: 4.5/5  \n  *Samuel exceeded expectations, successfu...",
          "Type: employees<br>Text: ## Compensation History\n- **2023:** Base Salary: $115,000 + Bonus: $15,000  \n  *Annual bonus based o...",
          "Type: employees<br>Text: - **Engagement in Company Culture:** Regularly participates in team-building events and contributes ...",
          "Type: products<br>Text: # Product Summary\n\n# Carllm\n\n## Summary\n\nCarllm is an innovative auto insurance product developed by...",
          "Type: products<br>Text: - **Instant Quoting**: With Carllm, insurance companies can offer near-instant quotes to customers, ...",
          "Type: products<br>Text: - **Mobile Integration**: Carllm is designed to work seamlessly with mobile applications, providing ...",
          "Type: products<br>Text: - **Professional Tier**: $2,500/month\n  - For medium-sized companies.\n  - All Basic Tier features pl...",
          "Type: products<br>Text: ### Q2 2025: Customer Experience Improvements\n- Launch of a new **mobile app** for end-users.\n- Intr...",
          "Type: products<br>Text: # Product Summary\n\n# Homellm\n\n## Summary\nHomellm is an innovative home insurance product developed b...",
          "Type: products<br>Text: ### 2. Dynamic Pricing Model\nWith Homellm's innovative dynamic pricing model, insurance providers ca...",
          "Type: products<br>Text: ### 5. Multi-Channel Integration\nHomellm seamlessly integrates into existing insurance platforms, pr...",
          "Type: products<br>Text: - **Basic Tier:** Starting at $5,000/month for small insurers with basic integration features.\n- **S...",
          "Type: products<br>Text: All tiers include a comprehensive training program and ongoing updates to ensure optimal performance...",
          "Type: products<br>Text: With Homellm, Insurellm is committed to transforming the landscape of home insurance, ensuring both ...",
          "Type: products<br>Text: # Product Summary\n\n# Markellm\n\n## Summary\n\nMarkellm is an innovative two-sided marketplace designed ...",
          "Type: products<br>Text: - **User-Friendly Interface**: Designed with user experience in mind, Markellm features an intuitive...",
          "Type: products<br>Text: - **Customer Support**: Our dedicated support team is always available to assist both consumers and ...",
          "Type: products<br>Text: ### For Insurance Companies:\n- **Basic Listing Fee**: $199/month for a featured listing on the platf...",
          "Type: products<br>Text: ### Q3 2025\n- Initiate a comprehensive marketing campaign targeting both consumers and insurers to i...",
          "Type: products<br>Text: # Product Summary\n\n# Rellm: AI-Powered Enterprise Reinsurance Solution\n\n## Summary\n\nRellm is an inno...",
          "Type: products<br>Text: ### Seamless Integrations\nRellm's architecture is designed for effortless integration with existing ...",
          "Type: products<br>Text: ### Regulatory Compliance Tools\nRellm includes built-in compliance tracking features to help organiz...",
          "Type: products<br>Text: Join the growing number of organizations leveraging Rellm to enhance their reinsurance processes whi...",
          "Type: products<br>Text: Experience the future of reinsurance with Rellm, where innovation meets reliability. Let Insurellm h..."
         ],
         "type": "scatter",
         "x": [
          1.8101822,
          1.326752,
          1.7704068,
          -0.96670264,
          0.18363798,
          -0.7590086,
          -2.07403,
          -5.0235457,
          0.2713235,
          1.1164416,
          5.055993,
          -2.3136737,
          -4.4363923,
          1.519733,
          3.098344,
          3.8610241,
          1.4844499,
          -1.1797388,
          -0.42831185,
          -0.48853797,
          -1.3972468,
          -4.283223,
          -0.37679398,
          1.183488,
          5.7695365,
          7.161721,
          -5.425481,
          -1.5201553,
          -1.1790057,
          5.7692494,
          -2.0548184,
          -5.543806,
          -2.2875202,
          -2.4715593,
          5.459705,
          -2.9670851,
          -1.4358672,
          1.1432058,
          6.5154495,
          -2.0911868,
          1.6194599,
          2.6831086,
          3.6501093,
          1.6384642,
          -2.7934744,
          -2.8523679,
          -1.3063548,
          -2.1508503,
          1.0605748,
          2.1611862,
          0.6425864,
          0.48834956,
          0.8448071,
          2.3459504,
          -0.103677206,
          -3.390222,
          -3.7574515,
          1.0507388,
          -0.19077243,
          -1.6930442,
          0.13439775,
          -0.011567542,
          -1.5671828,
          -0.66937625,
          -0.9803818,
          0.96674156,
          1.4771277,
          2.0115812,
          2.1501625,
          1.4167082,
          0.9371473,
          -4.0385466,
          -4.58827,
          -0.05302521,
          -0.7578857,
          -4.2817845,
          -4.3846307,
          -0.67066866,
          -4.679389,
          -2.3042655,
          0.9052296,
          -1.8575729,
          -3.1796768,
          -3.6562164,
          1.8221897,
          -2.4675539,
          -5.018488,
          -2.5017233,
          -2.8736055,
          -2.6249852,
          0.7277855,
          -3.6372836,
          -3.8282628,
          1.5638669,
          -1.2872982,
          -2.240413,
          -0.16914754,
          -0.65323555,
          -2.9347005,
          -0.51261634,
          0.45933336,
          -2.4247007,
          2.8220713,
          3.1059322,
          3.1354506,
          3.2052321,
          3.009038,
          5.1679997,
          5.7994204,
          5.6451216,
          6.743898,
          7.0988307,
          4.903965,
          4.531295,
          4.9046583,
          5.638929,
          6.41409,
          3.706999,
          1.0490562,
          -0.31641218,
          0.1898641,
          2.2255907,
          1.1375079
         ],
         "y": [
          0.8201568,
          1.5519753,
          0.5318238,
          -4.7015038,
          -3.7425995,
          -1.2180675,
          -5.52002,
          -6.164351,
          -9.010593,
          -11.860594,
          -1.8581256,
          -6.164459,
          -6.7287235,
          -9.20833,
          -9.053874,
          -8.76899,
          -9.233607,
          -4.116771,
          -3.3874385,
          -2.4603748,
          -3.3246262,
          -4.799953,
          -8.77442,
          -11.419681,
          -6.9361606,
          -1.1273091,
          -6.5259337,
          -8.72053,
          -10.455486,
          -5.433861,
          -7.3849764,
          -6.8777676,
          -8.990219,
          -8.704528,
          -6.0107017,
          -8.117309,
          -8.127809,
          -11.658296,
          -5.984215,
          -6.698413,
          -7.382453,
          -7.7013817,
          -5.7710056,
          -5.2618995,
          -3.5627854,
          -3.9211333,
          -2.0593734,
          -2.926981,
          -6.6279325,
          -6.2387066,
          -5.6326547,
          -5.6028047,
          -7.0970745,
          -6.229426,
          -6.2083883,
          6.8499017,
          12.47998,
          10.906431,
          3.562462,
          7.53332,
          10.0897045,
          9.027852,
          7.191972,
          9.679107,
          6.7684293,
          5.0853167,
          6.653029,
          7.00864,
          7.0147204,
          12.288852,
          5.312614,
          7.983133,
          10.671621,
          11.696038,
          3.3628993,
          8.701505,
          9.504882,
          11.307424,
          9.212997,
          7.0804443,
          9.885097,
          5.5292444,
          6.0549536,
          12.764116,
          11.644811,
          5.325295,
          6.8764267,
          10.532744,
          11.867883,
          11.056968,
          11.849627,
          6.6927757,
          12.212116,
          10.670716,
          13.471302,
          12.821376,
          13.04435,
          13.016707,
          7.879136,
          10.512267,
          11.102861,
          9.312382,
          -3.1626256,
          -3.328816,
          -4.1061206,
          -4.418619,
          -2.0769062,
          -4.0180893,
          -4.91216,
          -4.20817,
          -3.6675618,
          -4.0185075,
          -3.321047,
          -0.9349075,
          -0.9174469,
          -1.2002031,
          -1.250097,
          -0.78171027,
          -1.9820973,
          -1.2511576,
          -1.9075148,
          -1.4735043,
          -0.72966814
         ]
        }
       ],
       "layout": {
        "height": 600,
        "margin": {
         "b": 10,
         "l": 10,
         "r": 20,
         "t": 40
        },
        "scene": {
         "xaxis": {
          "title": {
           "text": "x"
          }
         },
         "yaxis": {
          "title": {
           "text": "y"
          }
         }
        },
        "template": {
         "data": {
          "bar": [
           {
            "error_x": {
             "color": "#2a3f5f"
            },
            "error_y": {
             "color": "#2a3f5f"
            },
            "marker": {
             "line": {
              "color": "#E5ECF6",
              "width": 0.5
             },
             "pattern": {
              "fillmode": "overlay",
              "size": 10,
              "solidity": 0.2
             }
            },
            "type": "bar"
           }
          ],
          "barpolar": [
           {
            "marker": {
             "line": {
              "color": "#E5ECF6",
              "width": 0.5
             },
             "pattern": {
              "fillmode": "overlay",
              "size": 10,
              "solidity": 0.2
             }
            },
            "type": "barpolar"
           }
          ],
          "carpet": [
           {
            "aaxis": {
             "endlinecolor": "#2a3f5f",
             "gridcolor": "white",
             "linecolor": "white",
             "minorgridcolor": "white",
             "startlinecolor": "#2a3f5f"
            },
            "baxis": {
             "endlinecolor": "#2a3f5f",
             "gridcolor": "white",
             "linecolor": "white",
             "minorgridcolor": "white",
             "startlinecolor": "#2a3f5f"
            },
            "type": "carpet"
           }
          ],
          "choropleth": [
           {
            "colorbar": {
             "outlinewidth": 0,
             "ticks": ""
            },
            "type": "choropleth"
           }
          ],
          "contour": [
           {
            "colorbar": {
             "outlinewidth": 0,
             "ticks": ""
            },
            "colorscale": [
             [
              0,
              "#0d0887"
             ],
             [
              0.1111111111111111,
              "#46039f"
             ],
             [
              0.2222222222222222,
              "#7201a8"
             ],
             [
              0.3333333333333333,
              "#9c179e"
             ],
             [
              0.4444444444444444,
              "#bd3786"
             ],
             [
              0.5555555555555556,
              "#d8576b"
             ],
             [
              0.6666666666666666,
              "#ed7953"
             ],
             [
              0.7777777777777778,
              "#fb9f3a"
             ],
             [
              0.8888888888888888,
              "#fdca26"
             ],
             [
              1,
              "#f0f921"
             ]
            ],
            "type": "contour"
           }
          ],
          "contourcarpet": [
           {
            "colorbar": {
             "outlinewidth": 0,
             "ticks": ""
            },
            "type": "contourcarpet"
           }
          ],
          "heatmap": [
           {
            "colorbar": {
             "outlinewidth": 0,
             "ticks": ""
            },
            "colorscale": [
             [
              0,
              "#0d0887"
             ],
             [
              0.1111111111111111,
              "#46039f"
             ],
             [
              0.2222222222222222,
              "#7201a8"
             ],
             [
              0.3333333333333333,
              "#9c179e"
             ],
             [
              0.4444444444444444,
              "#bd3786"
             ],
             [
              0.5555555555555556,
              "#d8576b"
             ],
             [
              0.6666666666666666,
              "#ed7953"
             ],
             [
              0.7777777777777778,
              "#fb9f3a"
             ],
             [
              0.8888888888888888,
              "#fdca26"
             ],
             [
              1,
              "#f0f921"
             ]
            ],
            "type": "heatmap"
           }
          ],
          "heatmapgl": [
           {
            "colorbar": {
             "outlinewidth": 0,
             "ticks": ""
            },
            "colorscale": [
             [
              0,
              "#0d0887"
             ],
             [
              0.1111111111111111,
              "#46039f"
             ],
             [
              0.2222222222222222,
              "#7201a8"
             ],
             [
              0.3333333333333333,
              "#9c179e"
             ],
             [
              0.4444444444444444,
              "#bd3786"
             ],
             [
              0.5555555555555556,
              "#d8576b"
             ],
             [
              0.6666666666666666,
              "#ed7953"
             ],
             [
              0.7777777777777778,
              "#fb9f3a"
             ],
             [
              0.8888888888888888,
              "#fdca26"
             ],
             [
              1,
              "#f0f921"
             ]
            ],
            "type": "heatmapgl"
           }
          ],
          "histogram": [
           {
            "marker": {
             "pattern": {
              "fillmode": "overlay",
              "size": 10,
              "solidity": 0.2
             }
            },
            "type": "histogram"
           }
          ],
          "histogram2d": [
           {
            "colorbar": {
             "outlinewidth": 0,
             "ticks": ""
            },
            "colorscale": [
             [
              0,
              "#0d0887"
             ],
             [
              0.1111111111111111,
              "#46039f"
             ],
             [
              0.2222222222222222,
              "#7201a8"
             ],
             [
              0.3333333333333333,
              "#9c179e"
             ],
             [
              0.4444444444444444,
              "#bd3786"
             ],
             [
              0.5555555555555556,
              "#d8576b"
             ],
             [
              0.6666666666666666,
              "#ed7953"
             ],
             [
              0.7777777777777778,
              "#fb9f3a"
             ],
             [
              0.8888888888888888,
              "#fdca26"
             ],
             [
              1,
              "#f0f921"
             ]
            ],
            "type": "histogram2d"
           }
          ],
          "histogram2dcontour": [
           {
            "colorbar": {
             "outlinewidth": 0,
             "ticks": ""
            },
            "colorscale": [
             [
              0,
              "#0d0887"
             ],
             [
              0.1111111111111111,
              "#46039f"
             ],
             [
              0.2222222222222222,
              "#7201a8"
             ],
             [
              0.3333333333333333,
              "#9c179e"
             ],
             [
              0.4444444444444444,
              "#bd3786"
             ],
             [
              0.5555555555555556,
              "#d8576b"
             ],
             [
              0.6666666666666666,
              "#ed7953"
             ],
             [
              0.7777777777777778,
              "#fb9f3a"
             ],
             [
              0.8888888888888888,
              "#fdca26"
             ],
             [
              1,
              "#f0f921"
             ]
            ],
            "type": "histogram2dcontour"
           }
          ],
          "mesh3d": [
           {
            "colorbar": {
             "outlinewidth": 0,
             "ticks": ""
            },
            "type": "mesh3d"
           }
          ],
          "parcoords": [
           {
            "line": {
             "colorbar": {
              "outlinewidth": 0,
              "ticks": ""
             }
            },
            "type": "parcoords"
           }
          ],
          "pie": [
           {
            "automargin": true,
            "type": "pie"
           }
          ],
          "scatter": [
           {
            "fillpattern": {
             "fillmode": "overlay",
             "size": 10,
             "solidity": 0.2
            },
            "type": "scatter"
           }
          ],
          "scatter3d": [
           {
            "line": {
             "colorbar": {
              "outlinewidth": 0,
              "ticks": ""
             }
            },
            "marker": {
             "colorbar": {
              "outlinewidth": 0,
              "ticks": ""
             }
            },
            "type": "scatter3d"
           }
          ],
          "scattercarpet": [
           {
            "marker": {
             "colorbar": {
              "outlinewidth": 0,
              "ticks": ""
             }
            },
            "type": "scattercarpet"
           }
          ],
          "scattergeo": [
           {
            "marker": {
             "colorbar": {
              "outlinewidth": 0,
              "ticks": ""
             }
            },
            "type": "scattergeo"
           }
          ],
          "scattergl": [
           {
            "marker": {
             "colorbar": {
              "outlinewidth": 0,
              "ticks": ""
             }
            },
            "type": "scattergl"
           }
          ],
          "scattermapbox": [
           {
            "marker": {
             "colorbar": {
              "outlinewidth": 0,
              "ticks": ""
             }
            },
            "type": "scattermapbox"
           }
          ],
          "scatterpolar": [
           {
            "marker": {
             "colorbar": {
              "outlinewidth": 0,
              "ticks": ""
             }
            },
            "type": "scatterpolar"
           }
          ],
          "scatterpolargl": [
           {
            "marker": {
             "colorbar": {
              "outlinewidth": 0,
              "ticks": ""
             }
            },
            "type": "scatterpolargl"
           }
          ],
          "scatterternary": [
           {
            "marker": {
             "colorbar": {
              "outlinewidth": 0,
              "ticks": ""
             }
            },
            "type": "scatterternary"
           }
          ],
          "surface": [
           {
            "colorbar": {
             "outlinewidth": 0,
             "ticks": ""
            },
            "colorscale": [
             [
              0,
              "#0d0887"
             ],
             [
              0.1111111111111111,
              "#46039f"
             ],
             [
              0.2222222222222222,
              "#7201a8"
             ],
             [
              0.3333333333333333,
              "#9c179e"
             ],
             [
              0.4444444444444444,
              "#bd3786"
             ],
             [
              0.5555555555555556,
              "#d8576b"
             ],
             [
              0.6666666666666666,
              "#ed7953"
             ],
             [
              0.7777777777777778,
              "#fb9f3a"
             ],
             [
              0.8888888888888888,
              "#fdca26"
             ],
             [
              1,
              "#f0f921"
             ]
            ],
            "type": "surface"
           }
          ],
          "table": [
           {
            "cells": {
             "fill": {
              "color": "#EBF0F8"
             },
             "line": {
              "color": "white"
             }
            },
            "header": {
             "fill": {
              "color": "#C8D4E3"
             },
             "line": {
              "color": "white"
             }
            },
            "type": "table"
           }
          ]
         },
         "layout": {
          "annotationdefaults": {
           "arrowcolor": "#2a3f5f",
           "arrowhead": 0,
           "arrowwidth": 1
          },
          "autotypenumbers": "strict",
          "coloraxis": {
           "colorbar": {
            "outlinewidth": 0,
            "ticks": ""
           }
          },
          "colorscale": {
           "diverging": [
            [
             0,
             "#8e0152"
            ],
            [
             0.1,
             "#c51b7d"
            ],
            [
             0.2,
             "#de77ae"
            ],
            [
             0.3,
             "#f1b6da"
            ],
            [
             0.4,
             "#fde0ef"
            ],
            [
             0.5,
             "#f7f7f7"
            ],
            [
             0.6,
             "#e6f5d0"
            ],
            [
             0.7,
             "#b8e186"
            ],
            [
             0.8,
             "#7fbc41"
            ],
            [
             0.9,
             "#4d9221"
            ],
            [
             1,
             "#276419"
            ]
           ],
           "sequential": [
            [
             0,
             "#0d0887"
            ],
            [
             0.1111111111111111,
             "#46039f"
            ],
            [
             0.2222222222222222,
             "#7201a8"
            ],
            [
             0.3333333333333333,
             "#9c179e"
            ],
            [
             0.4444444444444444,
             "#bd3786"
            ],
            [
             0.5555555555555556,
             "#d8576b"
            ],
            [
             0.6666666666666666,
             "#ed7953"
            ],
            [
             0.7777777777777778,
             "#fb9f3a"
            ],
            [
             0.8888888888888888,
             "#fdca26"
            ],
            [
             1,
             "#f0f921"
            ]
           ],
           "sequentialminus": [
            [
             0,
             "#0d0887"
            ],
            [
             0.1111111111111111,
             "#46039f"
            ],
            [
             0.2222222222222222,
             "#7201a8"
            ],
            [
             0.3333333333333333,
             "#9c179e"
            ],
            [
             0.4444444444444444,
             "#bd3786"
            ],
            [
             0.5555555555555556,
             "#d8576b"
            ],
            [
             0.6666666666666666,
             "#ed7953"
            ],
            [
             0.7777777777777778,
             "#fb9f3a"
            ],
            [
             0.8888888888888888,
             "#fdca26"
            ],
            [
             1,
             "#f0f921"
            ]
           ]
          },
          "colorway": [
           "#636efa",
           "#EF553B",
           "#00cc96",
           "#ab63fa",
           "#FFA15A",
           "#19d3f3",
           "#FF6692",
           "#B6E880",
           "#FF97FF",
           "#FECB52"
          ],
          "font": {
           "color": "#2a3f5f"
          },
          "geo": {
           "bgcolor": "white",
           "lakecolor": "white",
           "landcolor": "#E5ECF6",
           "showlakes": true,
           "showland": true,
           "subunitcolor": "white"
          },
          "hoverlabel": {
           "align": "left"
          },
          "hovermode": "closest",
          "mapbox": {
           "style": "light"
          },
          "paper_bgcolor": "white",
          "plot_bgcolor": "#E5ECF6",
          "polar": {
           "angularaxis": {
            "gridcolor": "white",
            "linecolor": "white",
            "ticks": ""
           },
           "bgcolor": "#E5ECF6",
           "radialaxis": {
            "gridcolor": "white",
            "linecolor": "white",
            "ticks": ""
           }
          },
          "scene": {
           "xaxis": {
            "backgroundcolor": "#E5ECF6",
            "gridcolor": "white",
            "gridwidth": 2,
            "linecolor": "white",
            "showbackground": true,
            "ticks": "",
            "zerolinecolor": "white"
           },
           "yaxis": {
            "backgroundcolor": "#E5ECF6",
            "gridcolor": "white",
            "gridwidth": 2,
            "linecolor": "white",
            "showbackground": true,
            "ticks": "",
            "zerolinecolor": "white"
           },
           "zaxis": {
            "backgroundcolor": "#E5ECF6",
            "gridcolor": "white",
            "gridwidth": 2,
            "linecolor": "white",
            "showbackground": true,
            "ticks": "",
            "zerolinecolor": "white"
           }
          },
          "shapedefaults": {
           "line": {
            "color": "#2a3f5f"
           }
          },
          "ternary": {
           "aaxis": {
            "gridcolor": "white",
            "linecolor": "white",
            "ticks": ""
           },
           "baxis": {
            "gridcolor": "white",
            "linecolor": "white",
            "ticks": ""
           },
           "bgcolor": "#E5ECF6",
           "caxis": {
            "gridcolor": "white",
            "linecolor": "white",
            "ticks": ""
           }
          },
          "title": {
           "x": 0.05
          },
          "xaxis": {
           "automargin": true,
           "gridcolor": "white",
           "linecolor": "white",
           "ticks": "",
           "title": {
            "standoff": 15
           },
           "zerolinecolor": "white",
           "zerolinewidth": 2
          },
          "yaxis": {
           "automargin": true,
           "gridcolor": "white",
           "linecolor": "white",
           "ticks": "",
           "title": {
            "standoff": 15
           },
           "zerolinecolor": "white",
           "zerolinewidth": 2
          }
         }
        },
        "title": {
         "text": "2D FAISS Vector Store Visualization"
        },
        "width": 800
       }
      },
      "image/png": "[encoded data removed]",
      "text/html": [
       "<div>                            <div id=\"b972efbe-5ff1-48cd-9ba5-d740604e71ab\" class=\"plotly-graph-div\" style=\"height:600px; width:800px;\"></div>            <script type=\"text/javascript\">                require([\"plotly\"], function(Plotly) {                    window.PLOTLYENV=window.PLOTLYENV || {};                                    if (document.getElementById(\"b972efbe-5ff1-48cd-9ba5-d740604e71ab\")) {                    Plotly.newPlot(                        \"b972efbe-5ff1-48cd-9ba5-d740604e71ab\",                        [{\"hoverinfo\":\"text\",\"marker\":{\"color\":[\"orange\",\"orange\",\"orange\",\"red\",\"red\",\"red\",\"red\",\"red\",\"red\",\"red\",\"red\",\"red\",\"red\",\"red\",\"red\",\"red\",\"red\",\"red\",\"red\",\"red\",\"red\",\"red\",\"red\",\"red\",\"red\",\"red\",\"red\",\"red\",\"red\",\"red\",\"red\",\"red\",\"red\",\"red\",\"red\",\"red\",\"red\",\"red\",\"red\",\"red\",\"red\",\"red\",\"red\",\"red\",\"red\",\"red\",\"red\",\"red\",\"red\",\"red\",\"red\",\"red\",\"red\",\"red\",\"red\",\"green\",\"green\",\"green\",\"green\",\"green\",\"green\",\"green\",\"green\",\"green\",\"green\",\"green\",\"green\",\"green\",\"green\",\"green\",\"green\",\"green\",\"green\",\"green\",\"green\",\"green\",\"green\",\"green\",\"green\",\"green\",\"green\",\"green\",\"green\",\"green\",\"green\",\"green\",\"green\",\"green\",\"green\",\"green\",\"green\",\"green\",\"green\",\"green\",\"green\",\"green\",\"green\",\"green\",\"green\",\"green\",\"green\",\"green\",\"blue\",\"blue\",\"blue\",\"blue\",\"blue\",\"blue\",\"blue\",\"blue\",\"blue\",\"blue\",\"blue\",\"blue\",\"blue\",\"blue\",\"blue\",\"blue\",\"blue\",\"blue\",\"blue\",\"blue\",\"blue\"],\"opacity\":0.8,\"size\":5},\"mode\":\"markers\",\"text\":[\"Type: company\\u003cbr\\u003eText: # About Insurellm\\n\\nInsurellm was founded by Avery Lancaster in 2015 as an insurance tech startup des...\",\"Type: company\\u003cbr\\u003eText: # Careers at Insurellm\\n\\nInsurellm is hiring! We are looking for talented software engineers, data sc...\",\"Type: company\\u003cbr\\u003eText: # Overview of Insurellm\\n\\nInsurellm is an innovative insurance tech firm with 200 employees across th...\",\"Type: contracts\\u003cbr\\u003eText: # Contract with Apex Reinsurance for Rellm: AI-Powered Enterprise Reinsurance Solution\\n\\n## Terms\\n\\n1....\",\"Type: contracts\\u003cbr\\u003eText: ## Renewal\\n\\n1. **Automatic Renewal**: This Agreement will automatically renew for successive one-yea...\",\"Type: contracts\\u003cbr\\u003eText: 2. **Seamless Integrations**: The architecture of Rellm allows for easy integration with existing sy...\",\"Type: contracts\\u003cbr\\u003eText: 1. **Technical Support**: Provider shall offer dedicated technical support to the Client via phone, ...\",\"Type: contracts\\u003cbr\\u003eText: **Insurellm, Inc.**  \\n_____________________________  \\nAuthorized Signature   \\nDate: ________________...\",\"Type: contracts\\u003cbr\\u003eText: # Contract with Belvedere Insurance for Markellm\\n\\n## Terms\\nThis Contract (\\\"Agreement\\\") is made and e...\",\"Type: contracts\\u003cbr\\u003eText: ## Renewal\\n1. **Renewal Terms**: This Agreement may be renewed for additional one-year terms upon mu...\",\"Type: contracts\\u003cbr\\u003eText: ## Features\\n1. **AI-Powered Matching**: Belvedere Insurance will benefit from Markellm's AI-powered ...\",\"Type: contracts\\u003cbr\\u003eText: ## Support\\n1. **Technical Support**: Technical support will be available from 9 AM to 7 PM EST, Mond...\",\"Type: contracts\\u003cbr\\u003eText: **Belvedere Insurance**  \\nSignature: ______________________  \\nName: [Authorized Signatory]  \\nTitle: ...\",\"Type: contracts\\u003cbr\\u003eText: # Contract with BrightWay Solutions for Markellm\\n\\n**Contract Date:** October 5, 2023  \\n**Contract ID...\",\"Type: contracts\\u003cbr\\u003eText: 3. **Service Level Agreement (SLA):**  \\n   Insurellm commits to a 99.9% uptime for the platform with...\",\"Type: contracts\\u003cbr\\u003eText: 2. **Real-Time Quote Availability:**  \\n   Consumers sourced via BrightWay Solutions will receive rea...\",\"Type: contracts\\u003cbr\\u003eText: 3. **Training and Onboarding:**  \\n   Insurellm agrees to provide one free training session on how to...\",\"Type: contracts\\u003cbr\\u003eText: # Contract with EverGuard Insurance for Rellm: AI-Powered Enterprise Reinsurance Solution\\n\\n**Contrac...\",\"Type: contracts\\u003cbr\\u003eText: 4. **Usage Rights**: EverGuard Insurance is granted a non-exclusive, non-transferable license to acc...\",\"Type: contracts\\u003cbr\\u003eText: 1. **Core Functionality**: Rellm provides EverGuard Insurance with advanced AI-driven analytics, sea...\",\"Type: contracts\\u003cbr\\u003eText: 1. **Customer Support**: Insurellm will provide EverGuard Insurance with 24\\u002f7 customer support, incl...\",\"Type: contracts\\u003cbr\\u003eText: ---\\n\\n**Signatures**  \\n**For Insurellm**: __________________________  \\n**Name**: John Smith  \\n**Title...\",\"Type: contracts\\u003cbr\\u003eText: # Contract with GreenField Holdings for Markellm\\n\\n**Effective Date:** November 15, 2023  \\n**Contract...\",\"Type: contracts\\u003cbr\\u003eText: ## Renewal\\n1. **Automatic Renewal**: This contract will automatically renew for sequential one-year ...\",\"Type: contracts\\u003cbr\\u003eText: ## Features\\n1. **AI-Powered Matching**: Access to advanced algorithms that connect GreenField Holdin...\",\"Type: contracts\\u003cbr\\u003eText: ## Support\\n1. **Customer Support Access**: The Client will have access to dedicated support through ...\",\"Type: contracts\\u003cbr\\u003eText: **Signatures:**  \\n_________________________                           _________________________  \\n**...\",\"Type: contracts\\u003cbr\\u003eText: # Contract with Greenstone Insurance for Homellm\\n\\n---\\n\\n## Terms\\n\\n1. **Parties**: This Contract (\\\"Agr...\",\"Type: contracts\\u003cbr\\u003eText: 4. **Payment Terms**: \\n   - The Customer shall pay an amount of $10,000 per month for the Standard T...\",\"Type: contracts\\u003cbr\\u003eText: ---\\n\\n## Features\\n\\n- **AI-Powered Risk Assessment**: Customer will have access to enhanced risk evalu...\",\"Type: contracts\\u003cbr\\u003eText: - **Customer Portal**: A dedicated portal will be provided, allowing the Customer's clients to manag...\",\"Type: contracts\\u003cbr\\u003eText: ______________________________  \\n[Name], [Title]  \\nDate: ______________________\\n\\n**For Greenstone In...\",\"Type: contracts\\u003cbr\\u003eText: # Contract with GreenValley Insurance for Homellm\\n\\n**Contract Date:** October 6, 2023  \\n**Contract N...\",\"Type: contracts\\u003cbr\\u003eText: 4. **Confidentiality:** Both parties agree to maintain the confidentiality of proprietary informatio...\",\"Type: contracts\\u003cbr\\u003eText: 1. **AI-Powered Risk Assessment:** Access to advanced AI algorithms for real-time risk evaluations.\\n...\",\"Type: contracts\\u003cbr\\u003eText: 3. **Regular Updates:** Insurellm will offer ongoing updates and enhancements to the Homellm platfor...\",\"Type: contracts\\u003cbr\\u003eText: # Contract with Pinnacle Insurance Co. for Homellm\\n\\n## Terms\\nThis contract (\\\"Contract\\\") is entered i...\",\"Type: contracts\\u003cbr\\u003eText: ## Renewal\\n1. **Renewal Terms**: At the end of the initial term, this Contract shall automatically r...\",\"Type: contracts\\u003cbr\\u003eText: ## Features\\n1. **AI-Powered Risk Assessment**: Utilized for tailored underwriting decisions specific...\",\"Type: contracts\\u003cbr\\u003eText: ## Support\\n1. **Technical Support**: Insurellm shall provide 24\\u002f7 technical support via an email and...\",\"Type: contracts\\u003cbr\\u003eText: # Contract with Roadway Insurance Inc. for Carllm\\n\\n---\\n\\n## Terms\\n\\n1. **Agreement Effective Date**: T...\",\"Type: contracts\\u003cbr\\u003eText: ---\\n\\n## Renewal\\n\\n1. **Automatic Renewal**: This agreement will automatically renew for an additional...\",\"Type: contracts\\u003cbr\\u003eText: ---\\n\\n## Features\\n\\n1. **Access to Core Features**: Roadway Insurance Inc. will have access to all Pro...\",\"Type: contracts\\u003cbr\\u003eText: ---\\n\\n## Support\\n\\n1. **Technical Support**: Roadway Insurance Inc. will receive priority technical su...\",\"Type: contracts\\u003cbr\\u003eText: # Contract with Stellar Insurance Co. for Rellm\\n\\n## Terms\\nThis contract is made between **Insurellm*...\",\"Type: contracts\\u003cbr\\u003eText: ### Termination\\nEither party may terminate this agreement with a **30-day written notice**. In the e...\",\"Type: contracts\\u003cbr\\u003eText: ## Features\\nStellar Insurance Co. will receive access to the following features of the Rellm product...\",\"Type: contracts\\u003cbr\\u003eText: ## Support\\nInsurellm provides Stellar Insurance Co. with the following support services:\\n\\n- **24\\u002f7 T...\",\"Type: contracts\\u003cbr\\u003eText: # Contract with TechDrive Insurance for Carllm\\n\\n**Contract Date:** October 1, 2024  \\n**Contract Dura...\",\"Type: contracts\\u003cbr\\u003eText: ## Renewal\\n\\n1. **Automatic Renewal**: This contract shall automatically renew for additional one-yea...\",\"Type: contracts\\u003cbr\\u003eText: ## Support\\n\\n1. **Customer Support**: Insurellm will provide 24\\u002f7 customer support to TechDrive Insur...\",\"Type: contracts\\u003cbr\\u003eText: **TechDrive Insurance Representative:**  \\nName: Sarah Johnson  \\nTitle: Operations Director  \\nDate: _...\",\"Type: contracts\\u003cbr\\u003eText: # Contract with Velocity Auto Solutions for Carllm\\n\\n**Contract Date:** October 1, 2023  \\n**Contract ...\",\"Type: contracts\\u003cbr\\u003eText: ## Renewal\\n\\n1. **Automatic Renewal**: This contract will automatically renew for successive 12-month...\",\"Type: contracts\\u003cbr\\u003eText: ## Support\\n\\n1. **Customer Support**: Velocity Auto Solutions will have access to Insurellm’s custome...\",\"Type: employees\\u003cbr\\u003eText: # HR Record\\n\\n# Alex Chen\\n\\n## Summary\\n- **Date of Birth:** March 15, 1990  \\n- **Job Title:** Backend ...\",\"Type: employees\\u003cbr\\u003eText: ## Annual Performance History\\n- **2020:**  \\n  - Completed onboarding successfully.  \\n  - Met expecta...\",\"Type: employees\\u003cbr\\u003eText: ## Compensation History\\n- **2020:** Base Salary: $80,000  \\n- **2021:** Base Salary Increase to $90,0...\",\"Type: employees\\u003cbr\\u003eText: Alex Chen continues to be a vital asset at Insurellm, contributing significantly to innovative backe...\",\"Type: employees\\u003cbr\\u003eText: # HR Record\\n\\n# Alex Harper\\n\\n## Summary\\n- **Date of Birth**: March 15, 1993  \\n- **Job Title**: Sales ...\",\"Type: employees\\u003cbr\\u003eText: ## Annual Performance History  \\n- **2021**:  \\n  - **Performance Rating**: 4.5\\u002f5  \\n  - **Key Achievem...\",\"Type: employees\\u003cbr\\u003eText: - **2022**:  \\n  - **Base Salary**: $65,000 (Promotion to Senior SDR)  \\n  - **Bonus**: $13,000 (20% o...\",\"Type: employees\\u003cbr\\u003eText: # HR Record\\n\\n# Alex Thomson\\n\\n## Summary\\n- **Date of Birth:** March 15, 1995  \\n- **Job Title:** Sales...\",\"Type: employees\\u003cbr\\u003eText: ## Annual Performance History  \\n- **2022** - Rated as \\\"Exceeds Expectations.\\\" Alex Thomson achieved ...\",\"Type: employees\\u003cbr\\u003eText: ## Other HR Notes\\n- Alex Thomson is an active member of the Diversity and Inclusion committee at Ins...\",\"Type: employees\\u003cbr\\u003eText: # Avery Lancaster\\n\\n## Summary\\n- **Date of Birth**: March 15, 1985  \\n- **Job Title**: Co-Founder & Ch...\",\"Type: employees\\u003cbr\\u003eText: - **2010 - 2013**: Business Analyst at Edge Analytics  \\n  Prior to joining Innovate, Avery worked as...\",\"Type: employees\\u003cbr\\u003eText: - **2018**: **Exceeds Expectations**  \\n  Under Avery’s pivoted vision, Insurellm launched two new su...\",\"Type: employees\\u003cbr\\u003eText: - **2022**: **Satisfactory**  \\n  Avery focused on rebuilding team dynamics and addressing employee c...\",\"Type: employees\\u003cbr\\u003eText: ## Compensation History\\n- **2015**: $150,000 base salary + Significant equity stake  \\n- **2016**: $1...\",\"Type: employees\\u003cbr\\u003eText: ## Other HR Notes\\n- **Professional Development**: Avery has actively participated in leadership trai...\",\"Type: employees\\u003cbr\\u003eText: # HR Record\\n\\n# Emily Carter\\n\\n## Summary\\n- **Date of Birth:** August 12, 1990  \\n- **Job Title:** Acco...\",\"Type: employees\\u003cbr\\u003eText: - **2017-2019:** Marketing Intern  \\n  - Assisted with market research and campaign development for s...\",\"Type: employees\\u003cbr\\u003eText: ## Compensation History\\n| Year | Base Salary | Bonus         | Total Compensation |\\n|------|--------...\",\"Type: employees\\u003cbr\\u003eText: Emily Carter exemplifies the kind of talent that drives Insurellm's success and is an invaluable ass...\",\"Type: employees\\u003cbr\\u003eText: # HR Record\\n\\n# Emily Tran\\n\\n## Summary\\n- **Date of Birth:** March 18, 1991  \\n- **Job Title:** Digital...\",\"Type: employees\\u003cbr\\u003eText: - **January 2017 - May 2018**: Marketing Intern  \\n  - Supported the Marketing team by collaborating ...\",\"Type: employees\\u003cbr\\u003eText: - **2021**:  \\n  - Performance Rating: Meets Expectations  \\n  - Key Achievements: Contributed to the ...\",\"Type: employees\\u003cbr\\u003eText: - **Professional Development Goals**:  \\n  - Emily Tran aims to become a Marketing Manager within the...\",\"Type: employees\\u003cbr\\u003eText: # HR Record\\n\\n# Jordan Blake\\n\\n## Summary\\n- **Date of Birth:** March 15, 1993  \\n- **Job Title:** Sales...\",\"Type: employees\\u003cbr\\u003eText: ## Annual Performance History\\n- **2021:** First year at Insurellm; achieved 90% of monthly targets. ...\",\"Type: employees\\u003cbr\\u003eText: ## Other HR Notes\\n- Jordan has shown an interest in continuing education, actively participating in ...\",\"Type: employees\\u003cbr\\u003eText: # HR Record\\n\\n# Jordan K. Bishop\\n\\n## Summary\\n- **Date of Birth:** March 15, 1990\\n- **Job Title:** Fro...\",\"Type: employees\\u003cbr\\u003eText: ## Annual Performance History\\n- **2019:** Exceeds Expectations - Continuously delivered high-quality...\",\"Type: employees\\u003cbr\\u003eText: ## Compensation History\\n- **June 2018:** Starting Salary - $85,000\\n- **June 2019:** Salary Increase ...\",\"Type: employees\\u003cbr\\u003eText: ## Other HR Notes\\n- Jordan K. Bishop has been an integral part of club initiatives, including the In...\",\"Type: employees\\u003cbr\\u003eText: # HR Record\\n\\n# Maxine Thompson\\n\\n## Summary\\n- **Date of Birth:** January 15, 1991  \\n- **Job Title:** ...\",\"Type: employees\\u003cbr\\u003eText: ## Insurellm Career Progression\\n- **January 2017 - October 2018**: **Junior Data Engineer**  \\n  * Ma...\",\"Type: employees\\u003cbr\\u003eText: ## Annual Performance History\\n- **2017**: *Meets Expectations*  \\n  Maxine showed potential in her ro...\",\"Type: employees\\u003cbr\\u003eText: - **2021**: *Exceeds Expectations*  \\n  Maxine spearheaded the transition to a new data warehousing s...\",\"Type: employees\\u003cbr\\u003eText: ## Compensation History\\n- **2017**: $70,000 (Junior Data Engineer)  \\n- **2018**: $75,000 (Junior Dat...\",\"Type: employees\\u003cbr\\u003eText: # HR Record\\n\\n# Oliver Spencer\\n\\n## Summary\\n- **Date of Birth**: May 14, 1990  \\n- **Job Title**: Backe...\",\"Type: employees\\u003cbr\\u003eText: ## Annual Performance History\\n- **2018**: **3\\u002f5** - Adaptable team player but still learning to take...\",\"Type: employees\\u003cbr\\u003eText: ## Compensation History\\n- **March 2018**: Initial salary of $80,000.\\n- **July 2019**: Salary increas...\",\"Type: employees\\u003cbr\\u003eText: # Samantha Greene\\n\\n## Summary\\n- **Date of Birth:** October 14, 1990\\n- **Job Title:** HR Generalist\\n-...\",\"Type: employees\\u003cbr\\u003eText: ## Annual Performance History\\n- **2020:** Exceeds Expectations  \\n  Samantha Greene demonstrated exce...\",\"Type: employees\\u003cbr\\u003eText: ## Compensation History\\n- **2020:** Base Salary - $55,000  \\n  The entry-level salary matched industr...\",\"Type: employees\\u003cbr\\u003eText: - **2023:** Base Salary - $70,000  \\n  Recognized for substantial improvement in employee relations m...\",\"Type: employees\\u003cbr\\u003eText: # HR Record\\n\\n# Samuel Trenton\\n\\n## Summary\\n- **Date of Birth:** April 12, 1989  \\n- **Job Title:** Sen...\",\"Type: employees\\u003cbr\\u003eText: ## Annual Performance History\\n- **2023:** Rating: 4.5\\u002f5  \\n  *Samuel exceeded expectations, successfu...\",\"Type: employees\\u003cbr\\u003eText: ## Compensation History\\n- **2023:** Base Salary: $115,000 + Bonus: $15,000  \\n  *Annual bonus based o...\",\"Type: employees\\u003cbr\\u003eText: - **Engagement in Company Culture:** Regularly participates in team-building events and contributes ...\",\"Type: products\\u003cbr\\u003eText: # Product Summary\\n\\n# Carllm\\n\\n## Summary\\n\\nCarllm is an innovative auto insurance product developed by...\",\"Type: products\\u003cbr\\u003eText: - **Instant Quoting**: With Carllm, insurance companies can offer near-instant quotes to customers, ...\",\"Type: products\\u003cbr\\u003eText: - **Mobile Integration**: Carllm is designed to work seamlessly with mobile applications, providing ...\",\"Type: products\\u003cbr\\u003eText: - **Professional Tier**: $2,500\\u002fmonth\\n  - For medium-sized companies.\\n  - All Basic Tier features pl...\",\"Type: products\\u003cbr\\u003eText: ### Q2 2025: Customer Experience Improvements\\n- Launch of a new **mobile app** for end-users.\\n- Intr...\",\"Type: products\\u003cbr\\u003eText: # Product Summary\\n\\n# Homellm\\n\\n## Summary\\nHomellm is an innovative home insurance product developed b...\",\"Type: products\\u003cbr\\u003eText: ### 2. Dynamic Pricing Model\\nWith Homellm's innovative dynamic pricing model, insurance providers ca...\",\"Type: products\\u003cbr\\u003eText: ### 5. Multi-Channel Integration\\nHomellm seamlessly integrates into existing insurance platforms, pr...\",\"Type: products\\u003cbr\\u003eText: - **Basic Tier:** Starting at $5,000\\u002fmonth for small insurers with basic integration features.\\n- **S...\",\"Type: products\\u003cbr\\u003eText: All tiers include a comprehensive training program and ongoing updates to ensure optimal performance...\",\"Type: products\\u003cbr\\u003eText: With Homellm, Insurellm is committed to transforming the landscape of home insurance, ensuring both ...\",\"Type: products\\u003cbr\\u003eText: # Product Summary\\n\\n# Markellm\\n\\n## Summary\\n\\nMarkellm is an innovative two-sided marketplace designed ...\",\"Type: products\\u003cbr\\u003eText: - **User-Friendly Interface**: Designed with user experience in mind, Markellm features an intuitive...\",\"Type: products\\u003cbr\\u003eText: - **Customer Support**: Our dedicated support team is always available to assist both consumers and ...\",\"Type: products\\u003cbr\\u003eText: ### For Insurance Companies:\\n- **Basic Listing Fee**: $199\\u002fmonth for a featured listing on the platf...\",\"Type: products\\u003cbr\\u003eText: ### Q3 2025\\n- Initiate a comprehensive marketing campaign targeting both consumers and insurers to i...\",\"Type: products\\u003cbr\\u003eText: # Product Summary\\n\\n# Rellm: AI-Powered Enterprise Reinsurance Solution\\n\\n## Summary\\n\\nRellm is an inno...\",\"Type: products\\u003cbr\\u003eText: ### Seamless Integrations\\nRellm's architecture is designed for effortless integration with existing ...\",\"Type: products\\u003cbr\\u003eText: ### Regulatory Compliance Tools\\nRellm includes built-in compliance tracking features to help organiz...\",\"Type: products\\u003cbr\\u003eText: Join the growing number of organizations leveraging Rellm to enhance their reinsurance processes whi...\",\"Type: products\\u003cbr\\u003eText: Experience the future of reinsurance with Rellm, where innovation meets reliability. Let Insurellm h...\"],\"x\":[1.8101822,1.326752,1.7704068,-0.96670264,0.18363798,-0.7590086,-2.07403,-5.0235457,0.2713235,1.1164416,5.055993,-2.3136737,-4.4363923,1.519733,3.098344,3.8610241,1.4844499,-1.1797388,-0.42831185,-0.48853797,-1.3972468,-4.283223,-0.37679398,1.183488,5.7695365,7.161721,-5.425481,-1.5201553,-1.1790057,5.7692494,-2.0548184,-5.543806,-2.2875202,-2.4715593,5.459705,-2.9670851,-1.4358672,1.1432058,6.5154495,-2.0911868,1.6194599,2.6831086,3.6501093,1.6384642,-2.7934744,-2.8523679,-1.3063548,-2.1508503,1.0605748,2.1611862,0.6425864,0.48834956,0.8448071,2.3459504,-0.103677206,-3.390222,-3.7574515,1.0507388,-0.19077243,-1.6930442,0.13439775,-0.011567542,-1.5671828,-0.66937625,-0.9803818,0.96674156,1.4771277,2.0115812,2.1501625,1.4167082,0.9371473,-4.0385466,-4.58827,-0.05302521,-0.7578857,-4.2817845,-4.3846307,-0.67066866,-4.679389,-2.3042655,0.9052296,-1.8575729,-3.1796768,-3.6562164,1.8221897,-2.4675539,-5.018488,-2.5017233,-2.8736055,-2.6249852,0.7277855,-3.6372836,-3.8282628,1.5638669,-1.2872982,-2.240413,-0.16914754,-0.65323555,-2.9347005,-0.51261634,0.45933336,-2.4247007,2.8220713,3.1059322,3.1354506,3.2052321,3.009038,5.1679997,5.7994204,5.6451216,6.743898,7.0988307,4.903965,4.531295,4.9046583,5.638929,6.41409,3.706999,1.0490562,-0.31641218,0.1898641,2.2255907,1.1375079],\"y\":[0.8201568,1.5519753,0.5318238,-4.7015038,-3.7425995,-1.2180675,-5.52002,-6.164351,-9.010593,-11.860594,-1.8581256,-6.164459,-6.7287235,-9.20833,-9.053874,-8.76899,-9.233607,-4.116771,-3.3874385,-2.4603748,-3.3246262,-4.799953,-8.77442,-11.419681,-6.9361606,-1.1273091,-6.5259337,-8.72053,-10.455486,-5.433861,-7.3849764,-6.8777676,-8.990219,-8.704528,-6.0107017,-8.117309,-8.127809,-11.658296,-5.984215,-6.698413,-7.382453,-7.7013817,-5.7710056,-5.2618995,-3.5627854,-3.9211333,-2.0593734,-2.926981,-6.6279325,-6.2387066,-5.6326547,-5.6028047,-7.0970745,-6.229426,-6.2083883,6.8499017,12.47998,10.906431,3.562462,7.53332,10.0897045,9.027852,7.191972,9.679107,6.7684293,5.0853167,6.653029,7.00864,7.0147204,12.288852,5.312614,7.983133,10.671621,11.696038,3.3628993,8.701505,9.504882,11.307424,9.212997,7.0804443,9.885097,5.5292444,6.0549536,12.764116,11.644811,5.325295,6.8764267,10.532744,11.867883,11.056968,11.849627,6.6927757,12.212116,10.670716,13.471302,12.821376,13.04435,13.016707,7.879136,10.512267,11.102861,9.312382,-3.1626256,-3.328816,-4.1061206,-4.418619,-2.0769062,-4.0180893,-4.91216,-4.20817,-3.6675618,-4.0185075,-3.321047,-0.9349075,-0.9174469,-1.2002031,-1.250097,-0.78171027,-1.9820973,-1.2511576,-1.9075148,-1.4735043,-0.72966814],\"type\":\"scatter\"}],                        {\"template\":{\"data\":{\"histogram2dcontour\":[{\"type\":\"histogram2dcontour\",\"colorbar\":{\"outlinewidth\":0,\"ticks\":\"\"},\"colorscale\":[[0.0,\"#0d0887\"],[0.1111111111111111,\"#46039f\"],[0.2222222222222222,\"#7201a8\"],[0.3333333333333333,\"#9c179e\"],[0.4444444444444444,\"#bd3786\"],[0.5555555555555556,\"#d8576b\"],[0.6666666666666666,\"#ed7953\"],[0.7777777777777778,\"#fb9f3a\"],[0.8888888888888888,\"#fdca26\"],[1.0,\"#f0f921\"]]}],\"choropleth\":[{\"type\":\"choropleth\",\"colorbar\":{\"outlinewidth\":0,\"ticks\":\"\"}}],\"histogram2d\":[{\"type\":\"histogram2d\",\"colorbar\":{\"outlinewidth\":0,\"ticks\":\"\"},\"colorscale\":[[0.0,\"#0d0887\"],[0.1111111111111111,\"#46039f\"],[0.2222222222222222,\"#7201a8\"],[0.3333333333333333,\"#9c179e\"],[0.4444444444444444,\"#bd3786\"],[0.5555555555555556,\"#d8576b\"],[0.6666666666666666,\"#ed7953\"],[0.7777777777777778,\"#fb9f3a\"],[0.8888888888888888,\"#fdca26\"],[1.0,\"#f0f921\"]]}],\"heatmap\":[{\"type\":\"heatmap\",\"colorbar\":{\"outlinewidth\":0,\"ticks\":\"\"},\"colorscale\":[[0.0,\"#0d0887\"],[0.1111111111111111,\"#46039f\"],[0.2222222222222222,\"#7201a8\"],[0.3333333333333333,\"#9c179e\"],[0.4444444444444444,\"#bd3786\"],[0.5555555555555556,\"#d8576b\"],[0.6666666666666666,\"#ed7953\"],[0.7777777777777778,\"#fb9f3a\"],[0.8888888888888888,\"#fdca26\"],[1.0,\"#f0f921\"]]}],\"heatmapgl\":[{\"type\":\"heatmapgl\",\"colorbar\":{\"outlinewidth\":0,\"ticks\":\"\"},\"colorscale\":[[0.0,\"#0d0887\"],[0.1111111111111111,\"#46039f\"],[0.2222222222222222,\"#7201a8\"],[0.3333333333333333,\"#9c179e\"],[0.4444444444444444,\"#bd3786\"],[0.5555555555555556,\"#d8576b\"],[0.6666666666666666,\"#ed7953\"],[0.7777777777777778,\"#fb9f3a\"],[0.8888888888888888,\"#fdca26\"],[1.0,\"#f0f921\"]]}],\"contourcarpet\":[{\"type\":\"contourcarpet\",\"colorbar\":{\"outlinewidth\":0,\"ticks\":\"\"}}],\"contour\":[{\"type\":\"contour\",\"colorbar\":{\"outlinewidth\":0,\"ticks\":\"\"},\"colorscale\":[[0.0,\"#0d0887\"],[0.1111111111111111,\"#46039f\"],[0.2222222222222222,\"#7201a8\"],[0.3333333333333333,\"#9c179e\"],[0.4444444444444444,\"#bd3786\"],[0.5555555555555556,\"#d8576b\"],[0.6666666666666666,\"#ed7953\"],[0.7777777777777778,\"#fb9f3a\"],[0.8888888888888888,\"#fdca26\"],[1.0,\"#f0f921\"]]}],\"surface\":[{\"type\":\"surface\",\"colorbar\":{\"outlinewidth\":0,\"ticks\":\"\"},\"colorscale\":[[0.0,\"#0d0887\"],[0.1111111111111111,\"#46039f\"],[0.2222222222222222,\"#7201a8\"],[0.3333333333333333,\"#9c179e\"],[0.4444444444444444,\"#bd3786\"],[0.5555555555555556,\"#d8576b\"],[0.6666666666666666,\"#ed7953\"],[0.7777777777777778,\"#fb9f3a\"],[0.8888888888888888,\"#fdca26\"],[1.0,\"#f0f921\"]]}],\"mesh3d\":[{\"type\":\"mesh3d\",\"colorbar\":{\"outlinewidth\":0,\"ticks\":\"\"}}],\"scatter\":[{\"fillpattern\":{\"fillmode\":\"overlay\",\"size\":10,\"solidity\":0.2},\"type\":\"scatter\"}],\"parcoords\":[{\"type\":\"parcoords\",\"line\":{\"colorbar\":{\"outlinewidth\":0,\"ticks\":\"\"}}}],\"scatterpolargl\":[{\"type\":\"scatterpolargl\",\"marker\":{\"colorbar\":{\"outlinewidth\":0,\"ticks\":\"\"}}}],\"bar\":[{\"error_x\":{\"color\":\"#2a3f5f\"},\"error_y\":{\"color\":\"#2a3f5f\"},\"marker\":{\"line\":{\"color\":\"#E5ECF6\",\"width\":0.5},\"pattern\":{\"fillmode\":\"overlay\",\"size\":10,\"solidity\":0.2}},\"type\":\"bar\"}],\"scattergeo\":[{\"type\":\"scattergeo\",\"marker\":{\"colorbar\":{\"outlinewidth\":0,\"ticks\":\"\"}}}],\"scatterpolar\":[{\"type\":\"scatterpolar\",\"marker\":{\"colorbar\":{\"outlinewidth\":0,\"ticks\":\"\"}}}],\"histogram\":[{\"marker\":{\"pattern\":{\"fillmode\":\"overlay\",\"size\":10,\"solidity\":0.2}},\"type\":\"histogram\"}],\"scattergl\":[{\"type\":\"scattergl\",\"marker\":{\"colorbar\":{\"outlinewidth\":0,\"ticks\":\"\"}}}],\"scatter3d\":[{\"type\":\"scatter3d\",\"line\":{\"colorbar\":{\"outlinewidth\":0,\"ticks\":\"\"}},\"marker\":{\"colorbar\":{\"outlinewidth\":0,\"ticks\":\"\"}}}],\"scattermapbox\":[{\"type\":\"scattermapbox\",\"marker\":{\"colorbar\":{\"outlinewidth\":0,\"ticks\":\"\"}}}],\"scatterternary\":[{\"type\":\"scatterternary\",\"marker\":{\"colorbar\":{\"outlinewidth\":0,\"ticks\":\"\"}}}],\"scattercarpet\":[{\"type\":\"scattercarpet\",\"marker\":{\"colorbar\":{\"outlinewidth\":0,\"ticks\":\"\"}}}],\"carpet\":[{\"aaxis\":{\"endlinecolor\":\"#2a3f5f\",\"gridcolor\":\"white\",\"linecolor\":\"white\",\"minorgridcolor\":\"white\",\"startlinecolor\":\"#2a3f5f\"},\"baxis\":{\"endlinecolor\":\"#2a3f5f\",\"gridcolor\":\"white\",\"linecolor\":\"white\",\"minorgridcolor\":\"white\",\"startlinecolor\":\"#2a3f5f\"},\"type\":\"carpet\"}],\"table\":[{\"cells\":{\"fill\":{\"color\":\"#EBF0F8\"},\"line\":{\"color\":\"white\"}},\"header\":{\"fill\":{\"color\":\"#C8D4E3\"},\"line\":{\"color\":\"white\"}},\"type\":\"table\"}],\"barpolar\":[{\"marker\":{\"line\":{\"color\":\"#E5ECF6\",\"width\":0.5},\"pattern\":{\"fillmode\":\"overlay\",\"size\":10,\"solidity\":0.2}},\"type\":\"barpolar\"}],\"pie\":[{\"automargin\":true,\"type\":\"pie\"}]},\"layout\":{\"autotypenumbers\":\"strict\",\"colorway\":[\"#636efa\",\"#EF553B\",\"#00cc96\",\"#ab63fa\",\"#FFA15A\",\"#19d3f3\",\"#FF6692\",\"#B6E880\",\"#FF97FF\",\"#FECB52\"],\"font\":{\"color\":\"#2a3f5f\"},\"hovermode\":\"closest\",\"hoverlabel\":{\"align\":\"left\"},\"paper_bgcolor\":\"white\",\"plot_bgcolor\":\"#E5ECF6\",\"polar\":{\"bgcolor\":\"#E5ECF6\",\"angularaxis\":{\"gridcolor\":\"white\",\"linecolor\":\"white\",\"ticks\":\"\"},\"radialaxis\":{\"gridcolor\":\"white\",\"linecolor\":\"white\",\"ticks\":\"\"}},\"ternary\":{\"bgcolor\":\"#E5ECF6\",\"aaxis\":{\"gridcolor\":\"white\",\"linecolor\":\"white\",\"ticks\":\"\"},\"baxis\":{\"gridcolor\":\"white\",\"linecolor\":\"white\",\"ticks\":\"\"},\"caxis\":{\"gridcolor\":\"white\",\"linecolor\":\"white\",\"ticks\":\"\"}},\"coloraxis\":{\"colorbar\":{\"outlinewidth\":0,\"ticks\":\"\"}},\"colorscale\":{\"sequential\":[[0.0,\"#0d0887\"],[0.1111111111111111,\"#46039f\"],[0.2222222222222222,\"#7201a8\"],[0.3333333333333333,\"#9c179e\"],[0.4444444444444444,\"#bd3786\"],[0.5555555555555556,\"#d8576b\"],[0.6666666666666666,\"#ed7953\"],[0.7777777777777778,\"#fb9f3a\"],[0.8888888888888888,\"#fdca26\"],[1.0,\"#f0f921\"]],\"sequentialminus\":[[0.0,\"#0d0887\"],[0.1111111111111111,\"#46039f\"],[0.2222222222222222,\"#7201a8\"],[0.3333333333333333,\"#9c179e\"],[0.4444444444444444,\"#bd3786\"],[0.5555555555555556,\"#d8576b\"],[0.6666666666666666,\"#ed7953\"],[0.7777777777777778,\"#fb9f3a\"],[0.8888888888888888,\"#fdca26\"],[1.0,\"#f0f921\"]],\"diverging\":[[0,\"#8e0152\"],[0.1,\"#c51b7d\"],[0.2,\"#de77ae\"],[0.3,\"#f1b6da\"],[0.4,\"#fde0ef\"],[0.5,\"#f7f7f7\"],[0.6,\"#e6f5d0\"],[0.7,\"#b8e186\"],[0.8,\"#7fbc41\"],[0.9,\"#4d9221\"],[1,\"#276419\"]]},\"xaxis\":{\"gridcolor\":\"white\",\"linecolor\":\"white\",\"ticks\":\"\",\"title\":{\"standoff\":15},\"zerolinecolor\":\"white\",\"automargin\":true,\"zerolinewidth\":2},\"yaxis\":{\"gridcolor\":\"white\",\"linecolor\":\"white\",\"ticks\":\"\",\"title\":{\"standoff\":15},\"zerolinecolor\":\"white\",\"automargin\":true,\"zerolinewidth\":2},\"scene\":{\"xaxis\":{\"backgroundcolor\":\"#E5ECF6\",\"gridcolor\":\"white\",\"linecolor\":\"white\",\"showbackground\":true,\"ticks\":\"\",\"zerolinecolor\":\"white\",\"gridwidth\":2},\"yaxis\":{\"backgroundcolor\":\"#E5ECF6\",\"gridcolor\":\"white\",\"linecolor\":\"white\",\"showbackground\":true,\"ticks\":\"\",\"zerolinecolor\":\"white\",\"gridwidth\":2},\"zaxis\":{\"backgroundcolor\":\"#E5ECF6\",\"gridcolor\":\"white\",\"linecolor\":\"white\",\"showbackground\":true,\"ticks\":\"\",\"zerolinecolor\":\"white\",\"gridwidth\":2}},\"shapedefaults\":{\"line\":{\"color\":\"#2a3f5f\"}},\"annotationdefaults\":{\"arrowcolor\":\"#2a3f5f\",\"arrowhead\":0,\"arrowwidth\":1},\"geo\":{\"bgcolor\":\"white\",\"landcolor\":\"#E5ECF6\",\"subunitcolor\":\"white\",\"showland\":true,\"showlakes\":true,\"lakecolor\":\"white\"},\"title\":{\"x\":0.05},\"mapbox\":{\"style\":\"light\"}}},\"margin\":{\"r\":20,\"b\":10,\"l\":10,\"t\":40},\"title\":{\"text\":\"2D FAISS Vector Store Visualization\"},\"scene\":{\"xaxis\":{\"title\":{\"text\":\"x\"}},\"yaxis\":{\"title\":{\"text\":\"y\"}}},\"width\":800,\"height\":600},                        {\"responsive\": true}                    ).then(function(){\n",
       "                            \n",
       "var gd = document.getElementById('b972efbe-5ff1-48cd-9ba5-d740604e71ab');\n",
       "var x = new MutationObserver(function (mutations, observer) {{\n",
       "        var display = window.getComputedStyle(gd).display;\n",
       "        if (!display || display === 'none') {{\n",
       "            console.log([gd, 'removed!']);\n",
       "            Plotly.purge(gd);\n",
       "            observer.disconnect();\n",
       "        }}\n",
       "}});\n",
       "\n",
       "// Listen for the removal of the full notebook cells\n",
       "var notebookContainer = gd.closest('#notebook-container');\n",
       "if (notebookContainer) {{\n",
       "    x.observe(notebookContainer, {childList: true});\n",
       "}}\n",
       "\n",
       "// Listen for the clearing of the current output cell\n",
       "var outputEl = gd.closest('.output');\n",
       "if (outputEl) {{\n",
       "    x.observe(outputEl, {childList: true});\n",
       "}}\n",
       "\n",
       "                        })                };                });            </script>        </div>"
      ]
     },
     "metadata": {},
     "output_type": "display_data"
    }
   ],
   "source": [
    "# 2d visual\n",
    "\n",
    "tsne = TSNE(n_components=2, random_state=42)\n",
    "reduced_vectors = tsne.fit_transform(vectors)\n",
    "\n",
    "# Create the 2D scatter plot\n",
    "fig = go.Figure(data=[go.Scatter(\n",
    "    x=reduced_vectors[:, 0],\n",
    "    y=reduced_vectors[:, 1],\n",
    "    mode='markers',\n",
    "    marker=dict(size=5, color=colors, opacity=0.8),\n",
    "    text=[f\"Type: {t}<br>Text: {d[:100]}...\" for t, d in zip(doc_types, documents)],\n",
    "    hoverinfo='text'\n",
    ")])\n",
    "\n",
    "fig.update_layout(\n",
    "    title='2D FAISS Vector Store Visualization',\n",
    "    scene=dict(xaxis_title='x',yaxis_title='y'),\n",
    "    width=800,\n",
    "    height=600,\n",
    "    margin=dict(r=20, b=10, l=10, t=40)\n",
    ")\n",
    "\n",
    "fig.show()"
   ]
  },
  {
   "cell_type": "code",
   "execution_count": 17,
   "id": "e1418e88-acd5-460a-bf2b-4e6efc88e3dd",
   "metadata": {},
   "outputs": [
    {
     "data": {
      "application/vnd.plotly.v1+json": {
       "config": {
        "plotlyServerURL": "https://plot.ly"
       },
       "data": [
        {
         "hoverinfo": "text",
         "marker": {
          "color": [
           "orange",
           "orange",
           "orange",
           "red",
           "red",
           "red",
           "red",
           "red",
           "red",
           "red",
           "red",
           "red",
           "red",
           "red",
           "red",
           "red",
           "red",
           "red",
           "red",
           "red",
           "red",
           "red",
           "red",
           "red",
           "red",
           "red",
           "red",
           "red",
           "red",
           "red",
           "red",
           "red",
           "red",
           "red",
           "red",
           "red",
           "red",
           "red",
           "red",
           "red",
           "red",
           "red",
           "red",
           "red",
           "red",
           "red",
           "red",
           "red",
           "red",
           "red",
           "red",
           "red",
           "red",
           "red",
           "red",
           "green",
           "green",
           "green",
           "green",
           "green",
           "green",
           "green",
           "green",
           "green",
           "green",
           "green",
           "green",
           "green",
           "green",
           "green",
           "green",
           "green",
           "green",
           "green",
           "green",
           "green",
           "green",
           "green",
           "green",
           "green",
           "green",
           "green",
           "green",
           "green",
           "green",
           "green",
           "green",
           "green",
           "green",
           "green",
           "green",
           "green",
           "green",
           "green",
           "green",
           "green",
           "green",
           "green",
           "green",
           "green",
           "green",
           "green",
           "blue",
           "blue",
           "blue",
           "blue",
           "blue",
           "blue",
           "blue",
           "blue",
           "blue",
           "blue",
           "blue",
           "blue",
           "blue",
           "blue",
           "blue",
           "blue",
           "blue",
           "blue",
           "blue",
           "blue",
           "blue"
          ],
          "opacity": 0.8,
          "size": 5
         },
         "mode": "markers",
         "text": [
          "Type: company<br>Text: # About Insurellm\n\nInsurellm was founded by Avery Lancaster in 2015 as an insurance tech startup des...",
          "Type: company<br>Text: # Careers at Insurellm\n\nInsurellm is hiring! We are looking for talented software engineers, data sc...",
          "Type: company<br>Text: # Overview of Insurellm\n\nInsurellm is an innovative insurance tech firm with 200 employees across th...",
          "Type: contracts<br>Text: # Contract with Apex Reinsurance for Rellm: AI-Powered Enterprise Reinsurance Solution\n\n## Terms\n\n1....",
          "Type: contracts<br>Text: ## Renewal\n\n1. **Automatic Renewal**: This Agreement will automatically renew for successive one-yea...",
          "Type: contracts<br>Text: 2. **Seamless Integrations**: The architecture of Rellm allows for easy integration with existing sy...",
          "Type: contracts<br>Text: 1. **Technical Support**: Provider shall offer dedicated technical support to the Client via phone, ...",
          "Type: contracts<br>Text: **Insurellm, Inc.**  \n_____________________________  \nAuthorized Signature   \nDate: ________________...",
          "Type: contracts<br>Text: # Contract with Belvedere Insurance for Markellm\n\n## Terms\nThis Contract (\"Agreement\") is made and e...",
          "Type: contracts<br>Text: ## Renewal\n1. **Renewal Terms**: This Agreement may be renewed for additional one-year terms upon mu...",
          "Type: contracts<br>Text: ## Features\n1. **AI-Powered Matching**: Belvedere Insurance will benefit from Markellm's AI-powered ...",
          "Type: contracts<br>Text: ## Support\n1. **Technical Support**: Technical support will be available from 9 AM to 7 PM EST, Mond...",
          "Type: contracts<br>Text: **Belvedere Insurance**  \nSignature: ______________________  \nName: [Authorized Signatory]  \nTitle: ...",
          "Type: contracts<br>Text: # Contract with BrightWay Solutions for Markellm\n\n**Contract Date:** October 5, 2023  \n**Contract ID...",
          "Type: contracts<br>Text: 3. **Service Level Agreement (SLA):**  \n   Insurellm commits to a 99.9% uptime for the platform with...",
          "Type: contracts<br>Text: 2. **Real-Time Quote Availability:**  \n   Consumers sourced via BrightWay Solutions will receive rea...",
          "Type: contracts<br>Text: 3. **Training and Onboarding:**  \n   Insurellm agrees to provide one free training session on how to...",
          "Type: contracts<br>Text: # Contract with EverGuard Insurance for Rellm: AI-Powered Enterprise Reinsurance Solution\n\n**Contrac...",
          "Type: contracts<br>Text: 4. **Usage Rights**: EverGuard Insurance is granted a non-exclusive, non-transferable license to acc...",
          "Type: contracts<br>Text: 1. **Core Functionality**: Rellm provides EverGuard Insurance with advanced AI-driven analytics, sea...",
          "Type: contracts<br>Text: 1. **Customer Support**: Insurellm will provide EverGuard Insurance with 24/7 customer support, incl...",
          "Type: contracts<br>Text: ---\n\n**Signatures**  \n**For Insurellm**: __________________________  \n**Name**: John Smith  \n**Title...",
          "Type: contracts<br>Text: # Contract with GreenField Holdings for Markellm\n\n**Effective Date:** November 15, 2023  \n**Contract...",
          "Type: contracts<br>Text: ## Renewal\n1. **Automatic Renewal**: This contract will automatically renew for sequential one-year ...",
          "Type: contracts<br>Text: ## Features\n1. **AI-Powered Matching**: Access to advanced algorithms that connect GreenField Holdin...",
          "Type: contracts<br>Text: ## Support\n1. **Customer Support Access**: The Client will have access to dedicated support through ...",
          "Type: contracts<br>Text: **Signatures:**  \n_________________________                           _________________________  \n**...",
          "Type: contracts<br>Text: # Contract with Greenstone Insurance for Homellm\n\n---\n\n## Terms\n\n1. **Parties**: This Contract (\"Agr...",
          "Type: contracts<br>Text: 4. **Payment Terms**: \n   - The Customer shall pay an amount of $10,000 per month for the Standard T...",
          "Type: contracts<br>Text: ---\n\n## Features\n\n- **AI-Powered Risk Assessment**: Customer will have access to enhanced risk evalu...",
          "Type: contracts<br>Text: - **Customer Portal**: A dedicated portal will be provided, allowing the Customer's clients to manag...",
          "Type: contracts<br>Text: ______________________________  \n[Name], [Title]  \nDate: ______________________\n\n**For Greenstone In...",
          "Type: contracts<br>Text: # Contract with GreenValley Insurance for Homellm\n\n**Contract Date:** October 6, 2023  \n**Contract N...",
          "Type: contracts<br>Text: 4. **Confidentiality:** Both parties agree to maintain the confidentiality of proprietary informatio...",
          "Type: contracts<br>Text: 1. **AI-Powered Risk Assessment:** Access to advanced AI algorithms for real-time risk evaluations.\n...",
          "Type: contracts<br>Text: 3. **Regular Updates:** Insurellm will offer ongoing updates and enhancements to the Homellm platfor...",
          "Type: contracts<br>Text: # Contract with Pinnacle Insurance Co. for Homellm\n\n## Terms\nThis contract (\"Contract\") is entered i...",
          "Type: contracts<br>Text: ## Renewal\n1. **Renewal Terms**: At the end of the initial term, this Contract shall automatically r...",
          "Type: contracts<br>Text: ## Features\n1. **AI-Powered Risk Assessment**: Utilized for tailored underwriting decisions specific...",
          "Type: contracts<br>Text: ## Support\n1. **Technical Support**: Insurellm shall provide 24/7 technical support via an email and...",
          "Type: contracts<br>Text: # Contract with Roadway Insurance Inc. for Carllm\n\n---\n\n## Terms\n\n1. **Agreement Effective Date**: T...",
          "Type: contracts<br>Text: ---\n\n## Renewal\n\n1. **Automatic Renewal**: This agreement will automatically renew for an additional...",
          "Type: contracts<br>Text: ---\n\n## Features\n\n1. **Access to Core Features**: Roadway Insurance Inc. will have access to all Pro...",
          "Type: contracts<br>Text: ---\n\n## Support\n\n1. **Technical Support**: Roadway Insurance Inc. will receive priority technical su...",
          "Type: contracts<br>Text: # Contract with Stellar Insurance Co. for Rellm\n\n## Terms\nThis contract is made between **Insurellm*...",
          "Type: contracts<br>Text: ### Termination\nEither party may terminate this agreement with a **30-day written notice**. In the e...",
          "Type: contracts<br>Text: ## Features\nStellar Insurance Co. will receive access to the following features of the Rellm product...",
          "Type: contracts<br>Text: ## Support\nInsurellm provides Stellar Insurance Co. with the following support services:\n\n- **24/7 T...",
          "Type: contracts<br>Text: # Contract with TechDrive Insurance for Carllm\n\n**Contract Date:** October 1, 2024  \n**Contract Dura...",
          "Type: contracts<br>Text: ## Renewal\n\n1. **Automatic Renewal**: This contract shall automatically renew for additional one-yea...",
          "Type: contracts<br>Text: ## Support\n\n1. **Customer Support**: Insurellm will provide 24/7 customer support to TechDrive Insur...",
          "Type: contracts<br>Text: **TechDrive Insurance Representative:**  \nName: Sarah Johnson  \nTitle: Operations Director  \nDate: _...",
          "Type: contracts<br>Text: # Contract with Velocity Auto Solutions for Carllm\n\n**Contract Date:** October 1, 2023  \n**Contract ...",
          "Type: contracts<br>Text: ## Renewal\n\n1. **Automatic Renewal**: This contract will automatically renew for successive 12-month...",
          "Type: contracts<br>Text: ## Support\n\n1. **Customer Support**: Velocity Auto Solutions will have access to Insurellm’s custome...",
          "Type: employees<br>Text: # HR Record\n\n# Alex Chen\n\n## Summary\n- **Date of Birth:** March 15, 1990  \n- **Job Title:** Backend ...",
          "Type: employees<br>Text: ## Annual Performance History\n- **2020:**  \n  - Completed onboarding successfully.  \n  - Met expecta...",
          "Type: employees<br>Text: ## Compensation History\n- **2020:** Base Salary: $80,000  \n- **2021:** Base Salary Increase to $90,0...",
          "Type: employees<br>Text: Alex Chen continues to be a vital asset at Insurellm, contributing significantly to innovative backe...",
          "Type: employees<br>Text: # HR Record\n\n# Alex Harper\n\n## Summary\n- **Date of Birth**: March 15, 1993  \n- **Job Title**: Sales ...",
          "Type: employees<br>Text: ## Annual Performance History  \n- **2021**:  \n  - **Performance Rating**: 4.5/5  \n  - **Key Achievem...",
          "Type: employees<br>Text: - **2022**:  \n  - **Base Salary**: $65,000 (Promotion to Senior SDR)  \n  - **Bonus**: $13,000 (20% o...",
          "Type: employees<br>Text: # HR Record\n\n# Alex Thomson\n\n## Summary\n- **Date of Birth:** March 15, 1995  \n- **Job Title:** Sales...",
          "Type: employees<br>Text: ## Annual Performance History  \n- **2022** - Rated as \"Exceeds Expectations.\" Alex Thomson achieved ...",
          "Type: employees<br>Text: ## Other HR Notes\n- Alex Thomson is an active member of the Diversity and Inclusion committee at Ins...",
          "Type: employees<br>Text: # Avery Lancaster\n\n## Summary\n- **Date of Birth**: March 15, 1985  \n- **Job Title**: Co-Founder & Ch...",
          "Type: employees<br>Text: - **2010 - 2013**: Business Analyst at Edge Analytics  \n  Prior to joining Innovate, Avery worked as...",
          "Type: employees<br>Text: - **2018**: **Exceeds Expectations**  \n  Under Avery’s pivoted vision, Insurellm launched two new su...",
          "Type: employees<br>Text: - **2022**: **Satisfactory**  \n  Avery focused on rebuilding team dynamics and addressing employee c...",
          "Type: employees<br>Text: ## Compensation History\n- **2015**: $150,000 base salary + Significant equity stake  \n- **2016**: $1...",
          "Type: employees<br>Text: ## Other HR Notes\n- **Professional Development**: Avery has actively participated in leadership trai...",
          "Type: employees<br>Text: # HR Record\n\n# Emily Carter\n\n## Summary\n- **Date of Birth:** August 12, 1990  \n- **Job Title:** Acco...",
          "Type: employees<br>Text: - **2017-2019:** Marketing Intern  \n  - Assisted with market research and campaign development for s...",
          "Type: employees<br>Text: ## Compensation History\n| Year | Base Salary | Bonus         | Total Compensation |\n|------|--------...",
          "Type: employees<br>Text: Emily Carter exemplifies the kind of talent that drives Insurellm's success and is an invaluable ass...",
          "Type: employees<br>Text: # HR Record\n\n# Emily Tran\n\n## Summary\n- **Date of Birth:** March 18, 1991  \n- **Job Title:** Digital...",
          "Type: employees<br>Text: - **January 2017 - May 2018**: Marketing Intern  \n  - Supported the Marketing team by collaborating ...",
          "Type: employees<br>Text: - **2021**:  \n  - Performance Rating: Meets Expectations  \n  - Key Achievements: Contributed to the ...",
          "Type: employees<br>Text: - **Professional Development Goals**:  \n  - Emily Tran aims to become a Marketing Manager within the...",
          "Type: employees<br>Text: # HR Record\n\n# Jordan Blake\n\n## Summary\n- **Date of Birth:** March 15, 1993  \n- **Job Title:** Sales...",
          "Type: employees<br>Text: ## Annual Performance History\n- **2021:** First year at Insurellm; achieved 90% of monthly targets. ...",
          "Type: employees<br>Text: ## Other HR Notes\n- Jordan has shown an interest in continuing education, actively participating in ...",
          "Type: employees<br>Text: # HR Record\n\n# Jordan K. Bishop\n\n## Summary\n- **Date of Birth:** March 15, 1990\n- **Job Title:** Fro...",
          "Type: employees<br>Text: ## Annual Performance History\n- **2019:** Exceeds Expectations - Continuously delivered high-quality...",
          "Type: employees<br>Text: ## Compensation History\n- **June 2018:** Starting Salary - $85,000\n- **June 2019:** Salary Increase ...",
          "Type: employees<br>Text: ## Other HR Notes\n- Jordan K. Bishop has been an integral part of club initiatives, including the In...",
          "Type: employees<br>Text: # HR Record\n\n# Maxine Thompson\n\n## Summary\n- **Date of Birth:** January 15, 1991  \n- **Job Title:** ...",
          "Type: employees<br>Text: ## Insurellm Career Progression\n- **January 2017 - October 2018**: **Junior Data Engineer**  \n  * Ma...",
          "Type: employees<br>Text: ## Annual Performance History\n- **2017**: *Meets Expectations*  \n  Maxine showed potential in her ro...",
          "Type: employees<br>Text: - **2021**: *Exceeds Expectations*  \n  Maxine spearheaded the transition to a new data warehousing s...",
          "Type: employees<br>Text: ## Compensation History\n- **2017**: $70,000 (Junior Data Engineer)  \n- **2018**: $75,000 (Junior Dat...",
          "Type: employees<br>Text: # HR Record\n\n# Oliver Spencer\n\n## Summary\n- **Date of Birth**: May 14, 1990  \n- **Job Title**: Backe...",
          "Type: employees<br>Text: ## Annual Performance History\n- **2018**: **3/5** - Adaptable team player but still learning to take...",
          "Type: employees<br>Text: ## Compensation History\n- **March 2018**: Initial salary of $80,000.\n- **July 2019**: Salary increas...",
          "Type: employees<br>Text: # Samantha Greene\n\n## Summary\n- **Date of Birth:** October 14, 1990\n- **Job Title:** HR Generalist\n-...",
          "Type: employees<br>Text: ## Annual Performance History\n- **2020:** Exceeds Expectations  \n  Samantha Greene demonstrated exce...",
          "Type: employees<br>Text: ## Compensation History\n- **2020:** Base Salary - $55,000  \n  The entry-level salary matched industr...",
          "Type: employees<br>Text: - **2023:** Base Salary - $70,000  \n  Recognized for substantial improvement in employee relations m...",
          "Type: employees<br>Text: # HR Record\n\n# Samuel Trenton\n\n## Summary\n- **Date of Birth:** April 12, 1989  \n- **Job Title:** Sen...",
          "Type: employees<br>Text: ## Annual Performance History\n- **2023:** Rating: 4.5/5  \n  *Samuel exceeded expectations, successfu...",
          "Type: employees<br>Text: ## Compensation History\n- **2023:** Base Salary: $115,000 + Bonus: $15,000  \n  *Annual bonus based o...",
          "Type: employees<br>Text: - **Engagement in Company Culture:** Regularly participates in team-building events and contributes ...",
          "Type: products<br>Text: # Product Summary\n\n# Carllm\n\n## Summary\n\nCarllm is an innovative auto insurance product developed by...",
          "Type: products<br>Text: - **Instant Quoting**: With Carllm, insurance companies can offer near-instant quotes to customers, ...",
          "Type: products<br>Text: - **Mobile Integration**: Carllm is designed to work seamlessly with mobile applications, providing ...",
          "Type: products<br>Text: - **Professional Tier**: $2,500/month\n  - For medium-sized companies.\n  - All Basic Tier features pl...",
          "Type: products<br>Text: ### Q2 2025: Customer Experience Improvements\n- Launch of a new **mobile app** for end-users.\n- Intr...",
          "Type: products<br>Text: # Product Summary\n\n# Homellm\n\n## Summary\nHomellm is an innovative home insurance product developed b...",
          "Type: products<br>Text: ### 2. Dynamic Pricing Model\nWith Homellm's innovative dynamic pricing model, insurance providers ca...",
          "Type: products<br>Text: ### 5. Multi-Channel Integration\nHomellm seamlessly integrates into existing insurance platforms, pr...",
          "Type: products<br>Text: - **Basic Tier:** Starting at $5,000/month for small insurers with basic integration features.\n- **S...",
          "Type: products<br>Text: All tiers include a comprehensive training program and ongoing updates to ensure optimal performance...",
          "Type: products<br>Text: With Homellm, Insurellm is committed to transforming the landscape of home insurance, ensuring both ...",
          "Type: products<br>Text: # Product Summary\n\n# Markellm\n\n## Summary\n\nMarkellm is an innovative two-sided marketplace designed ...",
          "Type: products<br>Text: - **User-Friendly Interface**: Designed with user experience in mind, Markellm features an intuitive...",
          "Type: products<br>Text: - **Customer Support**: Our dedicated support team is always available to assist both consumers and ...",
          "Type: products<br>Text: ### For Insurance Companies:\n- **Basic Listing Fee**: $199/month for a featured listing on the platf...",
          "Type: products<br>Text: ### Q3 2025\n- Initiate a comprehensive marketing campaign targeting both consumers and insurers to i...",
          "Type: products<br>Text: # Product Summary\n\n# Rellm: AI-Powered Enterprise Reinsurance Solution\n\n## Summary\n\nRellm is an inno...",
          "Type: products<br>Text: ### Seamless Integrations\nRellm's architecture is designed for effortless integration with existing ...",
          "Type: products<br>Text: ### Regulatory Compliance Tools\nRellm includes built-in compliance tracking features to help organiz...",
          "Type: products<br>Text: Join the growing number of organizations leveraging Rellm to enhance their reinsurance processes whi...",
          "Type: products<br>Text: Experience the future of reinsurance with Rellm, where innovation meets reliability. Let Insurellm h..."
         ],
         "type": "scatter3d",
         "x": [
          -6.1414576,
          12.1470585,
          4.1479273,
          64.599045,
          78.04092,
          88.14662,
          55.988594,
          39.392033,
          -11.169253,
          8.177622,
          -45.60691,
          31.265327,
          13.487078,
          -3.144432,
          -11.009358,
          -27.676529,
          8.009703,
          -98.90297,
          57.128807,
          -63.88699,
          40.82474,
          28.505522,
          13.248372,
          31.623919,
          -10.980001,
          -8.123112,
          23.795864,
          26.723316,
          26.740824,
          -30.886713,
          23.677385,
          13.194242,
          20.320639,
          38.340687,
          -6.640751,
          -1.452879,
          20.802637,
          21.717066,
          -17.535604,
          20.748348,
          68.32633,
          54.11231,
          -1.0748152,
          55.53826,
          41.413597,
          62.661583,
          77.49889,
          55.042027,
          67.07226,
          61.662407,
          47.36666,
          42.65483,
          40.492077,
          -34.72634,
          34.233727,
          7.017317,
          -75.865776,
          -26.322693,
          1.6045696,
          -29.220707,
          -41.660213,
          -46.333138,
          240.04024,
          -40.36536,
          -28.043804,
          -26.192745,
          -55.97698,
          -75.775276,
          -85.261536,
          -73.262436,
          -27.443434,
          18.644241,
          -105.46633,
          -5.9838,
          22.453903,
          34.49117,
          62.29912,
          -16.45261,
          49.18169,
          -5.877283,
          -15.68497,
          1.3657506,
          11.470742,
          -68.26788,
          -79.18798,
          2.9464645,
          -1.5792242,
          -50.464863,
          -83.95506,
          -63.1115,
          -54.26286,
          -9.4657135,
          -86.31931,
          45.826622,
          -10.903109,
          -75.969,
          -37.255222,
          -21.967915,
          -21.850885,
          -48.84582,
          -51.488667,
          -50.951878,
          37.601337,
          -61.21485,
          -36.392662,
          -39.688732,
          89.85963,
          -48.070442,
          -27.15904,
          -35.312233,
          -50.52326,
          -66.7664,
          -26.700878,
          -5.129496,
          75.48806,
          55.80434,
          -28.100166,
          84.86747,
          64.2401,
          89.95763,
          96.02208,
          94.22889,
          26.751127
         ],
         "y": [
          39.22321,
          50.354446,
          29.048134,
          22.003485,
          17.548956,
          -46.139065,
          -51.698944,
          -77.69257,
          -35.824482,
          100.17334,
          -37.738728,
          -48.87282,
          -72.6359,
          -29.76956,
          -17.055687,
          -36.671368,
          -41.65882,
          52.429966,
          19.39431,
          65.164444,
          -28.412811,
          -45.114876,
          -19.298767,
          86.5378,
          42.900555,
          -2.4657207,
          -77.81904,
          6.365299,
          74.49349,
          68.41192,
          -47.601013,
          -95.25831,
          28.245352,
          43.19835,
          54.667175,
          -70.73261,
          21.224878,
          93.44852,
          90.32455,
          -25.909716,
          65.11252,
          90.16565,
          77.134186,
          42.852898,
          -8.464745,
          -10.420611,
          -7.6804743,
          -22.222347,
          40.412464,
          60.9449,
          15.275692,
          -8.735313,
          47.842724,
          0.64012176,
          23.969292,
          1.6970202,
          -21.834162,
          -48.638103,
          52.830994,
          -9.641753,
          -51.745968,
          -28.356411,
          -145.04764,
          -75.94285,
          0.6302911,
          60.301155,
          43.269073,
          36.364178,
          50.54608,
          -59.815037,
          37.94354,
          -36.828144,
          -3.243436,
          -63.714195,
          37.9455,
          -17.17303,
          -64.496544,
          -77.41976,
          4.465482,
          -21.314009,
          -44.305866,
          -16.793242,
          3.0748036,
          0.029882023,
          -57.433155,
          7.2010884,
          -30.855951,
          18.679886,
          8.681931,
          23.371439,
          -42.20377,
          15.434189,
          -19.816963,
          62.415184,
          16.674759,
          -9.961041,
          -76.70088,
          36.505444,
          -6.911234,
          -80.07943,
          -59.21528,
          -8.450782,
          -171.16417,
          -9.623821,
          1.7771297,
          19.638071,
          21.186699,
          53.142906,
          65.841415,
          40.744686,
          18.796879,
          19.041548,
          33.891247,
          12.589035,
          -39.466587,
          -51.34216,
          -9.189477,
          -6.0275607,
          1.9214349,
          -23.835625,
          -25.9638,
          3.3728666,
          4.824862
         ],
         "z": [
          -5.679505,
          -20.38118,
          10.36393,
          82.812904,
          55.081078,
          20.586313,
          35.55731,
          12.594101,
          65.847946,
          -9.631815,
          52.931828,
          46.350033,
          25.370296,
          40.466267,
          15.627161,
          27.148752,
          24.185661,
          -35.990143,
          39.098785,
          -56.186714,
          9.731054,
          -7.219165,
          63.157536,
          -12.597357,
          75.31072,
          76.56303,
          -7.921633,
          71.939804,
          42.662003,
          57.417202,
          80.37774,
          5.4023485,
          60.150192,
          59.836166,
          49.382515,
          63.456005,
          93.56846,
          8.861039,
          44.77739,
          93.54784,
          -3.1988273,
          9.434019,
          77.654175,
          -21.556204,
          48.942383,
          65.03511,
          31.77939,
          32.026367,
          10.51749,
          31.388298,
          -27.719782,
          -24.83267,
          10.534583,
          23.952599,
          -7.7591724,
          -78.63257,
          -4.9862967,
          -48.062553,
          -53.08243,
          -48.76371,
          -16.455555,
          -32.6348,
          98.243515,
          1.0022554,
          -17.444077,
          -30.069195,
          -19.134933,
          -2.804826,
          35.720024,
          -19.947233,
          -33.992386,
          -66.47719,
          -4.495646,
          -54.765987,
          -61.11003,
          -72.93678,
          71.21543,
          -31.884087,
          -76.80455,
          -56.42442,
          -22.716953,
          -25.346548,
          -51.908844,
          -15.596553,
          -50.84826,
          -28.987326,
          -95.25381,
          -66.224915,
          -40.48235,
          -43.329082,
          -68.1553,
          -65.33791,
          -28.613752,
          -64.07999,
          -105.71994,
          -60.92298,
          -68.559654,
          -92.14603,
          -81.97562,
          -28.315708,
          -43.52256,
          -96.18344,
          -142.74384,
          87.5518,
          99.66543,
          83.63955,
          -29.11293,
          21.486921,
          30.47699,
          43.73553,
          59.60342,
          38.64423,
          16.168205,
          39.666584,
          -24.589155,
          -35.609875,
          61.40177,
          -39.405697,
          6.317806,
          8.810243,
          46.16521,
          -8.201453,
          17.735535
         ]
        }
       ],
       "layout": {
        "height": 700,
        "margin": {
         "b": 10,
         "l": 10,
         "r": 20,
         "t": 40
        },
        "scene": {
         "xaxis": {
          "title": {
           "text": "x"
          }
         },
         "yaxis": {
          "title": {
           "text": "y"
          }
         },
         "zaxis": {
          "title": {
           "text": "z"
          }
         }
        },
        "template": {
         "data": {
          "bar": [
           {
            "error_x": {
             "color": "#2a3f5f"
            },
            "error_y": {
             "color": "#2a3f5f"
            },
            "marker": {
             "line": {
              "color": "#E5ECF6",
              "width": 0.5
             },
             "pattern": {
              "fillmode": "overlay",
              "size": 10,
              "solidity": 0.2
             }
            },
            "type": "bar"
           }
          ],
          "barpolar": [
           {
            "marker": {
             "line": {
              "color": "#E5ECF6",
              "width": 0.5
             },
             "pattern": {
              "fillmode": "overlay",
              "size": 10,
              "solidity": 0.2
             }
            },
            "type": "barpolar"
           }
          ],
          "carpet": [
           {
            "aaxis": {
             "endlinecolor": "#2a3f5f",
             "gridcolor": "white",
             "linecolor": "white",
             "minorgridcolor": "white",
             "startlinecolor": "#2a3f5f"
            },
            "baxis": {
             "endlinecolor": "#2a3f5f",
             "gridcolor": "white",
             "linecolor": "white",
             "minorgridcolor": "white",
             "startlinecolor": "#2a3f5f"
            },
            "type": "carpet"
           }
          ],
          "choropleth": [
           {
            "colorbar": {
             "outlinewidth": 0,
             "ticks": ""
            },
            "type": "choropleth"
           }
          ],
          "contour": [
           {
            "colorbar": {
             "outlinewidth": 0,
             "ticks": ""
            },
            "colorscale": [
             [
              0,
              "#0d0887"
             ],
             [
              0.1111111111111111,
              "#46039f"
             ],
             [
              0.2222222222222222,
              "#7201a8"
             ],
             [
              0.3333333333333333,
              "#9c179e"
             ],
             [
              0.4444444444444444,
              "#bd3786"
             ],
             [
              0.5555555555555556,
              "#d8576b"
             ],
             [
              0.6666666666666666,
              "#ed7953"
             ],
             [
              0.7777777777777778,
              "#fb9f3a"
             ],
             [
              0.8888888888888888,
              "#fdca26"
             ],
             [
              1,
              "#f0f921"
             ]
            ],
            "type": "contour"
           }
          ],
          "contourcarpet": [
           {
            "colorbar": {
             "outlinewidth": 0,
             "ticks": ""
            },
            "type": "contourcarpet"
           }
          ],
          "heatmap": [
           {
            "colorbar": {
             "outlinewidth": 0,
             "ticks": ""
            },
            "colorscale": [
             [
              0,
              "#0d0887"
             ],
             [
              0.1111111111111111,
              "#46039f"
             ],
             [
              0.2222222222222222,
              "#7201a8"
             ],
             [
              0.3333333333333333,
              "#9c179e"
             ],
             [
              0.4444444444444444,
              "#bd3786"
             ],
             [
              0.5555555555555556,
              "#d8576b"
             ],
             [
              0.6666666666666666,
              "#ed7953"
             ],
             [
              0.7777777777777778,
              "#fb9f3a"
             ],
             [
              0.8888888888888888,
              "#fdca26"
             ],
             [
              1,
              "#f0f921"
             ]
            ],
            "type": "heatmap"
           }
          ],
          "heatmapgl": [
           {
            "colorbar": {
             "outlinewidth": 0,
             "ticks": ""
            },
            "colorscale": [
             [
              0,
              "#0d0887"
             ],
             [
              0.1111111111111111,
              "#46039f"
             ],
             [
              0.2222222222222222,
              "#7201a8"
             ],
             [
              0.3333333333333333,
              "#9c179e"
             ],
             [
              0.4444444444444444,
              "#bd3786"
             ],
             [
              0.5555555555555556,
              "#d8576b"
             ],
             [
              0.6666666666666666,
              "#ed7953"
             ],
             [
              0.7777777777777778,
              "#fb9f3a"
             ],
             [
              0.8888888888888888,
              "#fdca26"
             ],
             [
              1,
              "#f0f921"
             ]
            ],
            "type": "heatmapgl"
           }
          ],
          "histogram": [
           {
            "marker": {
             "pattern": {
              "fillmode": "overlay",
              "size": 10,
              "solidity": 0.2
             }
            },
            "type": "histogram"
           }
          ],
          "histogram2d": [
           {
            "colorbar": {
             "outlinewidth": 0,
             "ticks": ""
            },
            "colorscale": [
             [
              0,
              "#0d0887"
             ],
             [
              0.1111111111111111,
              "#46039f"
             ],
             [
              0.2222222222222222,
              "#7201a8"
             ],
             [
              0.3333333333333333,
              "#9c179e"
             ],
             [
              0.4444444444444444,
              "#bd3786"
             ],
             [
              0.5555555555555556,
              "#d8576b"
             ],
             [
              0.6666666666666666,
              "#ed7953"
             ],
             [
              0.7777777777777778,
              "#fb9f3a"
             ],
             [
              0.8888888888888888,
              "#fdca26"
             ],
             [
              1,
              "#f0f921"
             ]
            ],
            "type": "histogram2d"
           }
          ],
          "histogram2dcontour": [
           {
            "colorbar": {
             "outlinewidth": 0,
             "ticks": ""
            },
            "colorscale": [
             [
              0,
              "#0d0887"
             ],
             [
              0.1111111111111111,
              "#46039f"
             ],
             [
              0.2222222222222222,
              "#7201a8"
             ],
             [
              0.3333333333333333,
              "#9c179e"
             ],
             [
              0.4444444444444444,
              "#bd3786"
             ],
             [
              0.5555555555555556,
              "#d8576b"
             ],
             [
              0.6666666666666666,
              "#ed7953"
             ],
             [
              0.7777777777777778,
              "#fb9f3a"
             ],
             [
              0.8888888888888888,
              "#fdca26"
             ],
             [
              1,
              "#f0f921"
             ]
            ],
            "type": "histogram2dcontour"
           }
          ],
          "mesh3d": [
           {
            "colorbar": {
             "outlinewidth": 0,
             "ticks": ""
            },
            "type": "mesh3d"
           }
          ],
          "parcoords": [
           {
            "line": {
             "colorbar": {
              "outlinewidth": 0,
              "ticks": ""
             }
            },
            "type": "parcoords"
           }
          ],
          "pie": [
           {
            "automargin": true,
            "type": "pie"
           }
          ],
          "scatter": [
           {
            "fillpattern": {
             "fillmode": "overlay",
             "size": 10,
             "solidity": 0.2
            },
            "type": "scatter"
           }
          ],
          "scatter3d": [
           {
            "line": {
             "colorbar": {
              "outlinewidth": 0,
              "ticks": ""
             }
            },
            "marker": {
             "colorbar": {
              "outlinewidth": 0,
              "ticks": ""
             }
            },
            "type": "scatter3d"
           }
          ],
          "scattercarpet": [
           {
            "marker": {
             "colorbar": {
              "outlinewidth": 0,
              "ticks": ""
             }
            },
            "type": "scattercarpet"
           }
          ],
          "scattergeo": [
           {
            "marker": {
             "colorbar": {
              "outlinewidth": 0,
              "ticks": ""
             }
            },
            "type": "scattergeo"
           }
          ],
          "scattergl": [
           {
            "marker": {
             "colorbar": {
              "outlinewidth": 0,
              "ticks": ""
             }
            },
            "type": "scattergl"
           }
          ],
          "scattermapbox": [
           {
            "marker": {
             "colorbar": {
              "outlinewidth": 0,
              "ticks": ""
             }
            },
            "type": "scattermapbox"
           }
          ],
          "scatterpolar": [
           {
            "marker": {
             "colorbar": {
              "outlinewidth": 0,
              "ticks": ""
             }
            },
            "type": "scatterpolar"
           }
          ],
          "scatterpolargl": [
           {
            "marker": {
             "colorbar": {
              "outlinewidth": 0,
              "ticks": ""
             }
            },
            "type": "scatterpolargl"
           }
          ],
          "scatterternary": [
           {
            "marker": {
             "colorbar": {
              "outlinewidth": 0,
              "ticks": ""
             }
            },
            "type": "scatterternary"
           }
          ],
          "surface": [
           {
            "colorbar": {
             "outlinewidth": 0,
             "ticks": ""
            },
            "colorscale": [
             [
              0,
              "#0d0887"
             ],
             [
              0.1111111111111111,
              "#46039f"
             ],
             [
              0.2222222222222222,
              "#7201a8"
             ],
             [
              0.3333333333333333,
              "#9c179e"
             ],
             [
              0.4444444444444444,
              "#bd3786"
             ],
             [
              0.5555555555555556,
              "#d8576b"
             ],
             [
              0.6666666666666666,
              "#ed7953"
             ],
             [
              0.7777777777777778,
              "#fb9f3a"
             ],
             [
              0.8888888888888888,
              "#fdca26"
             ],
             [
              1,
              "#f0f921"
             ]
            ],
            "type": "surface"
           }
          ],
          "table": [
           {
            "cells": {
             "fill": {
              "color": "#EBF0F8"
             },
             "line": {
              "color": "white"
             }
            },
            "header": {
             "fill": {
              "color": "#C8D4E3"
             },
             "line": {
              "color": "white"
             }
            },
            "type": "table"
           }
          ]
         },
         "layout": {
          "annotationdefaults": {
           "arrowcolor": "#2a3f5f",
           "arrowhead": 0,
           "arrowwidth": 1
          },
          "autotypenumbers": "strict",
          "coloraxis": {
           "colorbar": {
            "outlinewidth": 0,
            "ticks": ""
           }
          },
          "colorscale": {
           "diverging": [
            [
             0,
             "#8e0152"
            ],
            [
             0.1,
             "#c51b7d"
            ],
            [
             0.2,
             "#de77ae"
            ],
            [
             0.3,
             "#f1b6da"
            ],
            [
             0.4,
             "#fde0ef"
            ],
            [
             0.5,
             "#f7f7f7"
            ],
            [
             0.6,
             "#e6f5d0"
            ],
            [
             0.7,
             "#b8e186"
            ],
            [
             0.8,
             "#7fbc41"
            ],
            [
             0.9,
             "#4d9221"
            ],
            [
             1,
             "#276419"
            ]
           ],
           "sequential": [
            [
             0,
             "#0d0887"
            ],
            [
             0.1111111111111111,
             "#46039f"
            ],
            [
             0.2222222222222222,
             "#7201a8"
            ],
            [
             0.3333333333333333,
             "#9c179e"
            ],
            [
             0.4444444444444444,
             "#bd3786"
            ],
            [
             0.5555555555555556,
             "#d8576b"
            ],
            [
             0.6666666666666666,
             "#ed7953"
            ],
            [
             0.7777777777777778,
             "#fb9f3a"
            ],
            [
             0.8888888888888888,
             "#fdca26"
            ],
            [
             1,
             "#f0f921"
            ]
           ],
           "sequentialminus": [
            [
             0,
             "#0d0887"
            ],
            [
             0.1111111111111111,
             "#46039f"
            ],
            [
             0.2222222222222222,
             "#7201a8"
            ],
            [
             0.3333333333333333,
             "#9c179e"
            ],
            [
             0.4444444444444444,
             "#bd3786"
            ],
            [
             0.5555555555555556,
             "#d8576b"
            ],
            [
             0.6666666666666666,
             "#ed7953"
            ],
            [
             0.7777777777777778,
             "#fb9f3a"
            ],
            [
             0.8888888888888888,
             "#fdca26"
            ],
            [
             1,
             "#f0f921"
            ]
           ]
          },
          "colorway": [
           "#636efa",
           "#EF553B",
           "#00cc96",
           "#ab63fa",
           "#FFA15A",
           "#19d3f3",
           "#FF6692",
           "#B6E880",
           "#FF97FF",
           "#FECB52"
          ],
          "font": {
           "color": "#2a3f5f"
          },
          "geo": {
           "bgcolor": "white",
           "lakecolor": "white",
           "landcolor": "#E5ECF6",
           "showlakes": true,
           "showland": true,
           "subunitcolor": "white"
          },
          "hoverlabel": {
           "align": "left"
          },
          "hovermode": "closest",
          "mapbox": {
           "style": "light"
          },
          "paper_bgcolor": "white",
          "plot_bgcolor": "#E5ECF6",
          "polar": {
           "angularaxis": {
            "gridcolor": "white",
            "linecolor": "white",
            "ticks": ""
           },
           "bgcolor": "#E5ECF6",
           "radialaxis": {
            "gridcolor": "white",
            "linecolor": "white",
            "ticks": ""
           }
          },
          "scene": {
           "xaxis": {
            "backgroundcolor": "#E5ECF6",
            "gridcolor": "white",
            "gridwidth": 2,
            "linecolor": "white",
            "showbackground": true,
            "ticks": "",
            "zerolinecolor": "white"
           },
           "yaxis": {
            "backgroundcolor": "#E5ECF6",
            "gridcolor": "white",
            "gridwidth": 2,
            "linecolor": "white",
            "showbackground": true,
            "ticks": "",
            "zerolinecolor": "white"
           },
           "zaxis": {
            "backgroundcolor": "#E5ECF6",
            "gridcolor": "white",
            "gridwidth": 2,
            "linecolor": "white",
            "showbackground": true,
            "ticks": "",
            "zerolinecolor": "white"
           }
          },
          "shapedefaults": {
           "line": {
            "color": "#2a3f5f"
           }
          },
          "ternary": {
           "aaxis": {
            "gridcolor": "white",
            "linecolor": "white",
            "ticks": ""
           },
           "baxis": {
            "gridcolor": "white",
            "linecolor": "white",
            "ticks": ""
           },
           "bgcolor": "#E5ECF6",
           "caxis": {
            "gridcolor": "white",
            "linecolor": "white",
            "ticks": ""
           }
          },
          "title": {
           "x": 0.05
          },
          "xaxis": {
           "automargin": true,
           "gridcolor": "white",
           "linecolor": "white",
           "ticks": "",
           "title": {
            "standoff": 15
           },
           "zerolinecolor": "white",
           "zerolinewidth": 2
          },
          "yaxis": {
           "automargin": true,
           "gridcolor": "white",
           "linecolor": "white",
           "ticks": "",
           "title": {
            "standoff": 15
           },
           "zerolinecolor": "white",
           "zerolinewidth": 2
          }
         }
        },
        "title": {
         "text": "3D FAISS Vector Store Visualization"
        },
        "width": 900
       }
      },
      "text/html": [
       "<div>                            <div id=\"b401f025-4ea0-49cc-bc5c-4ed490739ed8\" class=\"plotly-graph-div\" style=\"height:700px; width:900px;\"></div>            <script type=\"text/javascript\">                require([\"plotly\"], function(Plotly) {                    window.PLOTLYENV=window.PLOTLYENV || {};                                    if (document.getElementById(\"b401f025-4ea0-49cc-bc5c-4ed490739ed8\")) {                    Plotly.newPlot(                        \"b401f025-4ea0-49cc-bc5c-4ed490739ed8\",                        [{\"hoverinfo\":\"text\",\"marker\":{\"color\":[\"orange\",\"orange\",\"orange\",\"red\",\"red\",\"red\",\"red\",\"red\",\"red\",\"red\",\"red\",\"red\",\"red\",\"red\",\"red\",\"red\",\"red\",\"red\",\"red\",\"red\",\"red\",\"red\",\"red\",\"red\",\"red\",\"red\",\"red\",\"red\",\"red\",\"red\",\"red\",\"red\",\"red\",\"red\",\"red\",\"red\",\"red\",\"red\",\"red\",\"red\",\"red\",\"red\",\"red\",\"red\",\"red\",\"red\",\"red\",\"red\",\"red\",\"red\",\"red\",\"red\",\"red\",\"red\",\"red\",\"green\",\"green\",\"green\",\"green\",\"green\",\"green\",\"green\",\"green\",\"green\",\"green\",\"green\",\"green\",\"green\",\"green\",\"green\",\"green\",\"green\",\"green\",\"green\",\"green\",\"green\",\"green\",\"green\",\"green\",\"green\",\"green\",\"green\",\"green\",\"green\",\"green\",\"green\",\"green\",\"green\",\"green\",\"green\",\"green\",\"green\",\"green\",\"green\",\"green\",\"green\",\"green\",\"green\",\"green\",\"green\",\"green\",\"green\",\"blue\",\"blue\",\"blue\",\"blue\",\"blue\",\"blue\",\"blue\",\"blue\",\"blue\",\"blue\",\"blue\",\"blue\",\"blue\",\"blue\",\"blue\",\"blue\",\"blue\",\"blue\",\"blue\",\"blue\",\"blue\"],\"opacity\":0.8,\"size\":5},\"mode\":\"markers\",\"text\":[\"Type: company\\u003cbr\\u003eText: # About Insurellm\\n\\nInsurellm was founded by Avery Lancaster in 2015 as an insurance tech startup des...\",\"Type: company\\u003cbr\\u003eText: # Careers at Insurellm\\n\\nInsurellm is hiring! We are looking for talented software engineers, data sc...\",\"Type: company\\u003cbr\\u003eText: # Overview of Insurellm\\n\\nInsurellm is an innovative insurance tech firm with 200 employees across th...\",\"Type: contracts\\u003cbr\\u003eText: # Contract with Apex Reinsurance for Rellm: AI-Powered Enterprise Reinsurance Solution\\n\\n## Terms\\n\\n1....\",\"Type: contracts\\u003cbr\\u003eText: ## Renewal\\n\\n1. **Automatic Renewal**: This Agreement will automatically renew for successive one-yea...\",\"Type: contracts\\u003cbr\\u003eText: 2. **Seamless Integrations**: The architecture of Rellm allows for easy integration with existing sy...\",\"Type: contracts\\u003cbr\\u003eText: 1. **Technical Support**: Provider shall offer dedicated technical support to the Client via phone, ...\",\"Type: contracts\\u003cbr\\u003eText: **Insurellm, Inc.**  \\n_____________________________  \\nAuthorized Signature   \\nDate: ________________...\",\"Type: contracts\\u003cbr\\u003eText: # Contract with Belvedere Insurance for Markellm\\n\\n## Terms\\nThis Contract (\\\"Agreement\\\") is made and e...\",\"Type: contracts\\u003cbr\\u003eText: ## Renewal\\n1. **Renewal Terms**: This Agreement may be renewed for additional one-year terms upon mu...\",\"Type: contracts\\u003cbr\\u003eText: ## Features\\n1. **AI-Powered Matching**: Belvedere Insurance will benefit from Markellm's AI-powered ...\",\"Type: contracts\\u003cbr\\u003eText: ## Support\\n1. **Technical Support**: Technical support will be available from 9 AM to 7 PM EST, Mond...\",\"Type: contracts\\u003cbr\\u003eText: **Belvedere Insurance**  \\nSignature: ______________________  \\nName: [Authorized Signatory]  \\nTitle: ...\",\"Type: contracts\\u003cbr\\u003eText: # Contract with BrightWay Solutions for Markellm\\n\\n**Contract Date:** October 5, 2023  \\n**Contract ID...\",\"Type: contracts\\u003cbr\\u003eText: 3. **Service Level Agreement (SLA):**  \\n   Insurellm commits to a 99.9% uptime for the platform with...\",\"Type: contracts\\u003cbr\\u003eText: 2. **Real-Time Quote Availability:**  \\n   Consumers sourced via BrightWay Solutions will receive rea...\",\"Type: contracts\\u003cbr\\u003eText: 3. **Training and Onboarding:**  \\n   Insurellm agrees to provide one free training session on how to...\",\"Type: contracts\\u003cbr\\u003eText: # Contract with EverGuard Insurance for Rellm: AI-Powered Enterprise Reinsurance Solution\\n\\n**Contrac...\",\"Type: contracts\\u003cbr\\u003eText: 4. **Usage Rights**: EverGuard Insurance is granted a non-exclusive, non-transferable license to acc...\",\"Type: contracts\\u003cbr\\u003eText: 1. **Core Functionality**: Rellm provides EverGuard Insurance with advanced AI-driven analytics, sea...\",\"Type: contracts\\u003cbr\\u003eText: 1. **Customer Support**: Insurellm will provide EverGuard Insurance with 24\\u002f7 customer support, incl...\",\"Type: contracts\\u003cbr\\u003eText: ---\\n\\n**Signatures**  \\n**For Insurellm**: __________________________  \\n**Name**: John Smith  \\n**Title...\",\"Type: contracts\\u003cbr\\u003eText: # Contract with GreenField Holdings for Markellm\\n\\n**Effective Date:** November 15, 2023  \\n**Contract...\",\"Type: contracts\\u003cbr\\u003eText: ## Renewal\\n1. **Automatic Renewal**: This contract will automatically renew for sequential one-year ...\",\"Type: contracts\\u003cbr\\u003eText: ## Features\\n1. **AI-Powered Matching**: Access to advanced algorithms that connect GreenField Holdin...\",\"Type: contracts\\u003cbr\\u003eText: ## Support\\n1. **Customer Support Access**: The Client will have access to dedicated support through ...\",\"Type: contracts\\u003cbr\\u003eText: **Signatures:**  \\n_________________________                           _________________________  \\n**...\",\"Type: contracts\\u003cbr\\u003eText: # Contract with Greenstone Insurance for Homellm\\n\\n---\\n\\n## Terms\\n\\n1. **Parties**: This Contract (\\\"Agr...\",\"Type: contracts\\u003cbr\\u003eText: 4. **Payment Terms**: \\n   - The Customer shall pay an amount of $10,000 per month for the Standard T...\",\"Type: contracts\\u003cbr\\u003eText: ---\\n\\n## Features\\n\\n- **AI-Powered Risk Assessment**: Customer will have access to enhanced risk evalu...\",\"Type: contracts\\u003cbr\\u003eText: - **Customer Portal**: A dedicated portal will be provided, allowing the Customer's clients to manag...\",\"Type: contracts\\u003cbr\\u003eText: ______________________________  \\n[Name], [Title]  \\nDate: ______________________\\n\\n**For Greenstone In...\",\"Type: contracts\\u003cbr\\u003eText: # Contract with GreenValley Insurance for Homellm\\n\\n**Contract Date:** October 6, 2023  \\n**Contract N...\",\"Type: contracts\\u003cbr\\u003eText: 4. **Confidentiality:** Both parties agree to maintain the confidentiality of proprietary informatio...\",\"Type: contracts\\u003cbr\\u003eText: 1. **AI-Powered Risk Assessment:** Access to advanced AI algorithms for real-time risk evaluations.\\n...\",\"Type: contracts\\u003cbr\\u003eText: 3. **Regular Updates:** Insurellm will offer ongoing updates and enhancements to the Homellm platfor...\",\"Type: contracts\\u003cbr\\u003eText: # Contract with Pinnacle Insurance Co. for Homellm\\n\\n## Terms\\nThis contract (\\\"Contract\\\") is entered i...\",\"Type: contracts\\u003cbr\\u003eText: ## Renewal\\n1. **Renewal Terms**: At the end of the initial term, this Contract shall automatically r...\",\"Type: contracts\\u003cbr\\u003eText: ## Features\\n1. **AI-Powered Risk Assessment**: Utilized for tailored underwriting decisions specific...\",\"Type: contracts\\u003cbr\\u003eText: ## Support\\n1. **Technical Support**: Insurellm shall provide 24\\u002f7 technical support via an email and...\",\"Type: contracts\\u003cbr\\u003eText: # Contract with Roadway Insurance Inc. for Carllm\\n\\n---\\n\\n## Terms\\n\\n1. **Agreement Effective Date**: T...\",\"Type: contracts\\u003cbr\\u003eText: ---\\n\\n## Renewal\\n\\n1. **Automatic Renewal**: This agreement will automatically renew for an additional...\",\"Type: contracts\\u003cbr\\u003eText: ---\\n\\n## Features\\n\\n1. **Access to Core Features**: Roadway Insurance Inc. will have access to all Pro...\",\"Type: contracts\\u003cbr\\u003eText: ---\\n\\n## Support\\n\\n1. **Technical Support**: Roadway Insurance Inc. will receive priority technical su...\",\"Type: contracts\\u003cbr\\u003eText: # Contract with Stellar Insurance Co. for Rellm\\n\\n## Terms\\nThis contract is made between **Insurellm*...\",\"Type: contracts\\u003cbr\\u003eText: ### Termination\\nEither party may terminate this agreement with a **30-day written notice**. In the e...\",\"Type: contracts\\u003cbr\\u003eText: ## Features\\nStellar Insurance Co. will receive access to the following features of the Rellm product...\",\"Type: contracts\\u003cbr\\u003eText: ## Support\\nInsurellm provides Stellar Insurance Co. with the following support services:\\n\\n- **24\\u002f7 T...\",\"Type: contracts\\u003cbr\\u003eText: # Contract with TechDrive Insurance for Carllm\\n\\n**Contract Date:** October 1, 2024  \\n**Contract Dura...\",\"Type: contracts\\u003cbr\\u003eText: ## Renewal\\n\\n1. **Automatic Renewal**: This contract shall automatically renew for additional one-yea...\",\"Type: contracts\\u003cbr\\u003eText: ## Support\\n\\n1. **Customer Support**: Insurellm will provide 24\\u002f7 customer support to TechDrive Insur...\",\"Type: contracts\\u003cbr\\u003eText: **TechDrive Insurance Representative:**  \\nName: Sarah Johnson  \\nTitle: Operations Director  \\nDate: _...\",\"Type: contracts\\u003cbr\\u003eText: # Contract with Velocity Auto Solutions for Carllm\\n\\n**Contract Date:** October 1, 2023  \\n**Contract ...\",\"Type: contracts\\u003cbr\\u003eText: ## Renewal\\n\\n1. **Automatic Renewal**: This contract will automatically renew for successive 12-month...\",\"Type: contracts\\u003cbr\\u003eText: ## Support\\n\\n1. **Customer Support**: Velocity Auto Solutions will have access to Insurellm’s custome...\",\"Type: employees\\u003cbr\\u003eText: # HR Record\\n\\n# Alex Chen\\n\\n## Summary\\n- **Date of Birth:** March 15, 1990  \\n- **Job Title:** Backend ...\",\"Type: employees\\u003cbr\\u003eText: ## Annual Performance History\\n- **2020:**  \\n  - Completed onboarding successfully.  \\n  - Met expecta...\",\"Type: employees\\u003cbr\\u003eText: ## Compensation History\\n- **2020:** Base Salary: $80,000  \\n- **2021:** Base Salary Increase to $90,0...\",\"Type: employees\\u003cbr\\u003eText: Alex Chen continues to be a vital asset at Insurellm, contributing significantly to innovative backe...\",\"Type: employees\\u003cbr\\u003eText: # HR Record\\n\\n# Alex Harper\\n\\n## Summary\\n- **Date of Birth**: March 15, 1993  \\n- **Job Title**: Sales ...\",\"Type: employees\\u003cbr\\u003eText: ## Annual Performance History  \\n- **2021**:  \\n  - **Performance Rating**: 4.5\\u002f5  \\n  - **Key Achievem...\",\"Type: employees\\u003cbr\\u003eText: - **2022**:  \\n  - **Base Salary**: $65,000 (Promotion to Senior SDR)  \\n  - **Bonus**: $13,000 (20% o...\",\"Type: employees\\u003cbr\\u003eText: # HR Record\\n\\n# Alex Thomson\\n\\n## Summary\\n- **Date of Birth:** March 15, 1995  \\n- **Job Title:** Sales...\",\"Type: employees\\u003cbr\\u003eText: ## Annual Performance History  \\n- **2022** - Rated as \\\"Exceeds Expectations.\\\" Alex Thomson achieved ...\",\"Type: employees\\u003cbr\\u003eText: ## Other HR Notes\\n- Alex Thomson is an active member of the Diversity and Inclusion committee at Ins...\",\"Type: employees\\u003cbr\\u003eText: # Avery Lancaster\\n\\n## Summary\\n- **Date of Birth**: March 15, 1985  \\n- **Job Title**: Co-Founder & Ch...\",\"Type: employees\\u003cbr\\u003eText: - **2010 - 2013**: Business Analyst at Edge Analytics  \\n  Prior to joining Innovate, Avery worked as...\",\"Type: employees\\u003cbr\\u003eText: - **2018**: **Exceeds Expectations**  \\n  Under Avery’s pivoted vision, Insurellm launched two new su...\",\"Type: employees\\u003cbr\\u003eText: - **2022**: **Satisfactory**  \\n  Avery focused on rebuilding team dynamics and addressing employee c...\",\"Type: employees\\u003cbr\\u003eText: ## Compensation History\\n- **2015**: $150,000 base salary + Significant equity stake  \\n- **2016**: $1...\",\"Type: employees\\u003cbr\\u003eText: ## Other HR Notes\\n- **Professional Development**: Avery has actively participated in leadership trai...\",\"Type: employees\\u003cbr\\u003eText: # HR Record\\n\\n# Emily Carter\\n\\n## Summary\\n- **Date of Birth:** August 12, 1990  \\n- **Job Title:** Acco...\",\"Type: employees\\u003cbr\\u003eText: - **2017-2019:** Marketing Intern  \\n  - Assisted with market research and campaign development for s...\",\"Type: employees\\u003cbr\\u003eText: ## Compensation History\\n| Year | Base Salary | Bonus         | Total Compensation |\\n|------|--------...\",\"Type: employees\\u003cbr\\u003eText: Emily Carter exemplifies the kind of talent that drives Insurellm's success and is an invaluable ass...\",\"Type: employees\\u003cbr\\u003eText: # HR Record\\n\\n# Emily Tran\\n\\n## Summary\\n- **Date of Birth:** March 18, 1991  \\n- **Job Title:** Digital...\",\"Type: employees\\u003cbr\\u003eText: - **January 2017 - May 2018**: Marketing Intern  \\n  - Supported the Marketing team by collaborating ...\",\"Type: employees\\u003cbr\\u003eText: - **2021**:  \\n  - Performance Rating: Meets Expectations  \\n  - Key Achievements: Contributed to the ...\",\"Type: employees\\u003cbr\\u003eText: - **Professional Development Goals**:  \\n  - Emily Tran aims to become a Marketing Manager within the...\",\"Type: employees\\u003cbr\\u003eText: # HR Record\\n\\n# Jordan Blake\\n\\n## Summary\\n- **Date of Birth:** March 15, 1993  \\n- **Job Title:** Sales...\",\"Type: employees\\u003cbr\\u003eText: ## Annual Performance History\\n- **2021:** First year at Insurellm; achieved 90% of monthly targets. ...\",\"Type: employees\\u003cbr\\u003eText: ## Other HR Notes\\n- Jordan has shown an interest in continuing education, actively participating in ...\",\"Type: employees\\u003cbr\\u003eText: # HR Record\\n\\n# Jordan K. Bishop\\n\\n## Summary\\n- **Date of Birth:** March 15, 1990\\n- **Job Title:** Fro...\",\"Type: employees\\u003cbr\\u003eText: ## Annual Performance History\\n- **2019:** Exceeds Expectations - Continuously delivered high-quality...\",\"Type: employees\\u003cbr\\u003eText: ## Compensation History\\n- **June 2018:** Starting Salary - $85,000\\n- **June 2019:** Salary Increase ...\",\"Type: employees\\u003cbr\\u003eText: ## Other HR Notes\\n- Jordan K. Bishop has been an integral part of club initiatives, including the In...\",\"Type: employees\\u003cbr\\u003eText: # HR Record\\n\\n# Maxine Thompson\\n\\n## Summary\\n- **Date of Birth:** January 15, 1991  \\n- **Job Title:** ...\",\"Type: employees\\u003cbr\\u003eText: ## Insurellm Career Progression\\n- **January 2017 - October 2018**: **Junior Data Engineer**  \\n  * Ma...\",\"Type: employees\\u003cbr\\u003eText: ## Annual Performance History\\n- **2017**: *Meets Expectations*  \\n  Maxine showed potential in her ro...\",\"Type: employees\\u003cbr\\u003eText: - **2021**: *Exceeds Expectations*  \\n  Maxine spearheaded the transition to a new data warehousing s...\",\"Type: employees\\u003cbr\\u003eText: ## Compensation History\\n- **2017**: $70,000 (Junior Data Engineer)  \\n- **2018**: $75,000 (Junior Dat...\",\"Type: employees\\u003cbr\\u003eText: # HR Record\\n\\n# Oliver Spencer\\n\\n## Summary\\n- **Date of Birth**: May 14, 1990  \\n- **Job Title**: Backe...\",\"Type: employees\\u003cbr\\u003eText: ## Annual Performance History\\n- **2018**: **3\\u002f5** - Adaptable team player but still learning to take...\",\"Type: employees\\u003cbr\\u003eText: ## Compensation History\\n- **March 2018**: Initial salary of $80,000.\\n- **July 2019**: Salary increas...\",\"Type: employees\\u003cbr\\u003eText: # Samantha Greene\\n\\n## Summary\\n- **Date of Birth:** October 14, 1990\\n- **Job Title:** HR Generalist\\n-...\",\"Type: employees\\u003cbr\\u003eText: ## Annual Performance History\\n- **2020:** Exceeds Expectations  \\n  Samantha Greene demonstrated exce...\",\"Type: employees\\u003cbr\\u003eText: ## Compensation History\\n- **2020:** Base Salary - $55,000  \\n  The entry-level salary matched industr...\",\"Type: employees\\u003cbr\\u003eText: - **2023:** Base Salary - $70,000  \\n  Recognized for substantial improvement in employee relations m...\",\"Type: employees\\u003cbr\\u003eText: # HR Record\\n\\n# Samuel Trenton\\n\\n## Summary\\n- **Date of Birth:** April 12, 1989  \\n- **Job Title:** Sen...\",\"Type: employees\\u003cbr\\u003eText: ## Annual Performance History\\n- **2023:** Rating: 4.5\\u002f5  \\n  *Samuel exceeded expectations, successfu...\",\"Type: employees\\u003cbr\\u003eText: ## Compensation History\\n- **2023:** Base Salary: $115,000 + Bonus: $15,000  \\n  *Annual bonus based o...\",\"Type: employees\\u003cbr\\u003eText: - **Engagement in Company Culture:** Regularly participates in team-building events and contributes ...\",\"Type: products\\u003cbr\\u003eText: # Product Summary\\n\\n# Carllm\\n\\n## Summary\\n\\nCarllm is an innovative auto insurance product developed by...\",\"Type: products\\u003cbr\\u003eText: - **Instant Quoting**: With Carllm, insurance companies can offer near-instant quotes to customers, ...\",\"Type: products\\u003cbr\\u003eText: - **Mobile Integration**: Carllm is designed to work seamlessly with mobile applications, providing ...\",\"Type: products\\u003cbr\\u003eText: - **Professional Tier**: $2,500\\u002fmonth\\n  - For medium-sized companies.\\n  - All Basic Tier features pl...\",\"Type: products\\u003cbr\\u003eText: ### Q2 2025: Customer Experience Improvements\\n- Launch of a new **mobile app** for end-users.\\n- Intr...\",\"Type: products\\u003cbr\\u003eText: # Product Summary\\n\\n# Homellm\\n\\n## Summary\\nHomellm is an innovative home insurance product developed b...\",\"Type: products\\u003cbr\\u003eText: ### 2. Dynamic Pricing Model\\nWith Homellm's innovative dynamic pricing model, insurance providers ca...\",\"Type: products\\u003cbr\\u003eText: ### 5. Multi-Channel Integration\\nHomellm seamlessly integrates into existing insurance platforms, pr...\",\"Type: products\\u003cbr\\u003eText: - **Basic Tier:** Starting at $5,000\\u002fmonth for small insurers with basic integration features.\\n- **S...\",\"Type: products\\u003cbr\\u003eText: All tiers include a comprehensive training program and ongoing updates to ensure optimal performance...\",\"Type: products\\u003cbr\\u003eText: With Homellm, Insurellm is committed to transforming the landscape of home insurance, ensuring both ...\",\"Type: products\\u003cbr\\u003eText: # Product Summary\\n\\n# Markellm\\n\\n## Summary\\n\\nMarkellm is an innovative two-sided marketplace designed ...\",\"Type: products\\u003cbr\\u003eText: - **User-Friendly Interface**: Designed with user experience in mind, Markellm features an intuitive...\",\"Type: products\\u003cbr\\u003eText: - **Customer Support**: Our dedicated support team is always available to assist both consumers and ...\",\"Type: products\\u003cbr\\u003eText: ### For Insurance Companies:\\n- **Basic Listing Fee**: $199\\u002fmonth for a featured listing on the platf...\",\"Type: products\\u003cbr\\u003eText: ### Q3 2025\\n- Initiate a comprehensive marketing campaign targeting both consumers and insurers to i...\",\"Type: products\\u003cbr\\u003eText: # Product Summary\\n\\n# Rellm: AI-Powered Enterprise Reinsurance Solution\\n\\n## Summary\\n\\nRellm is an inno...\",\"Type: products\\u003cbr\\u003eText: ### Seamless Integrations\\nRellm's architecture is designed for effortless integration with existing ...\",\"Type: products\\u003cbr\\u003eText: ### Regulatory Compliance Tools\\nRellm includes built-in compliance tracking features to help organiz...\",\"Type: products\\u003cbr\\u003eText: Join the growing number of organizations leveraging Rellm to enhance their reinsurance processes whi...\",\"Type: products\\u003cbr\\u003eText: Experience the future of reinsurance with Rellm, where innovation meets reliability. Let Insurellm h...\"],\"x\":[-6.1414576,12.1470585,4.1479273,64.599045,78.04092,88.14662,55.988594,39.392033,-11.169253,8.177622,-45.60691,31.265327,13.487078,-3.144432,-11.009358,-27.676529,8.009703,-98.90297,57.128807,-63.88699,40.82474,28.505522,13.248372,31.623919,-10.980001,-8.123112,23.795864,26.723316,26.740824,-30.886713,23.677385,13.194242,20.320639,38.340687,-6.640751,-1.452879,20.802637,21.717066,-17.535604,20.748348,68.32633,54.11231,-1.0748152,55.53826,41.413597,62.661583,77.49889,55.042027,67.07226,61.662407,47.36666,42.65483,40.492077,-34.72634,34.233727,7.017317,-75.865776,-26.322693,1.6045696,-29.220707,-41.660213,-46.333138,240.04024,-40.36536,-28.043804,-26.192745,-55.97698,-75.775276,-85.261536,-73.262436,-27.443434,18.644241,-105.46633,-5.9838,22.453903,34.49117,62.29912,-16.45261,49.18169,-5.877283,-15.68497,1.3657506,11.470742,-68.26788,-79.18798,2.9464645,-1.5792242,-50.464863,-83.95506,-63.1115,-54.26286,-9.4657135,-86.31931,45.826622,-10.903109,-75.969,-37.255222,-21.967915,-21.850885,-48.84582,-51.488667,-50.951878,37.601337,-61.21485,-36.392662,-39.688732,89.85963,-48.070442,-27.15904,-35.312233,-50.52326,-66.7664,-26.700878,-5.129496,75.48806,55.80434,-28.100166,84.86747,64.2401,89.95763,96.02208,94.22889,26.751127],\"y\":[39.22321,50.354446,29.048134,22.003485,17.548956,-46.139065,-51.698944,-77.69257,-35.824482,100.17334,-37.738728,-48.87282,-72.6359,-29.76956,-17.055687,-36.671368,-41.65882,52.429966,19.39431,65.164444,-28.412811,-45.114876,-19.298767,86.5378,42.900555,-2.4657207,-77.81904,6.365299,74.49349,68.41192,-47.601013,-95.25831,28.245352,43.19835,54.667175,-70.73261,21.224878,93.44852,90.32455,-25.909716,65.11252,90.16565,77.134186,42.852898,-8.464745,-10.420611,-7.6804743,-22.222347,40.412464,60.9449,15.275692,-8.735313,47.842724,0.64012176,23.969292,1.6970202,-21.834162,-48.638103,52.830994,-9.641753,-51.745968,-28.356411,-145.04764,-75.94285,0.6302911,60.301155,43.269073,36.364178,50.54608,-59.815037,37.94354,-36.828144,-3.243436,-63.714195,37.9455,-17.17303,-64.496544,-77.41976,4.465482,-21.314009,-44.305866,-16.793242,3.0748036,0.029882023,-57.433155,7.2010884,-30.855951,18.679886,8.681931,23.371439,-42.20377,15.434189,-19.816963,62.415184,16.674759,-9.961041,-76.70088,36.505444,-6.911234,-80.07943,-59.21528,-8.450782,-171.16417,-9.623821,1.7771297,19.638071,21.186699,53.142906,65.841415,40.744686,18.796879,19.041548,33.891247,12.589035,-39.466587,-51.34216,-9.189477,-6.0275607,1.9214349,-23.835625,-25.9638,3.3728666,4.824862],\"z\":[-5.679505,-20.38118,10.36393,82.812904,55.081078,20.586313,35.55731,12.594101,65.847946,-9.631815,52.931828,46.350033,25.370296,40.466267,15.627161,27.148752,24.185661,-35.990143,39.098785,-56.186714,9.731054,-7.219165,63.157536,-12.597357,75.31072,76.56303,-7.921633,71.939804,42.662003,57.417202,80.37774,5.4023485,60.150192,59.836166,49.382515,63.456005,93.56846,8.861039,44.77739,93.54784,-3.1988273,9.434019,77.654175,-21.556204,48.942383,65.03511,31.77939,32.026367,10.51749,31.388298,-27.719782,-24.83267,10.534583,23.952599,-7.7591724,-78.63257,-4.9862967,-48.062553,-53.08243,-48.76371,-16.455555,-32.6348,98.243515,1.0022554,-17.444077,-30.069195,-19.134933,-2.804826,35.720024,-19.947233,-33.992386,-66.47719,-4.495646,-54.765987,-61.11003,-72.93678,71.21543,-31.884087,-76.80455,-56.42442,-22.716953,-25.346548,-51.908844,-15.596553,-50.84826,-28.987326,-95.25381,-66.224915,-40.48235,-43.329082,-68.1553,-65.33791,-28.613752,-64.07999,-105.71994,-60.92298,-68.559654,-92.14603,-81.97562,-28.315708,-43.52256,-96.18344,-142.74384,87.5518,99.66543,83.63955,-29.11293,21.486921,30.47699,43.73553,59.60342,38.64423,16.168205,39.666584,-24.589155,-35.609875,61.40177,-39.405697,6.317806,8.810243,46.16521,-8.201453,17.735535],\"type\":\"scatter3d\"}],                        {\"template\":{\"data\":{\"histogram2dcontour\":[{\"type\":\"histogram2dcontour\",\"colorbar\":{\"outlinewidth\":0,\"ticks\":\"\"},\"colorscale\":[[0.0,\"#0d0887\"],[0.1111111111111111,\"#46039f\"],[0.2222222222222222,\"#7201a8\"],[0.3333333333333333,\"#9c179e\"],[0.4444444444444444,\"#bd3786\"],[0.5555555555555556,\"#d8576b\"],[0.6666666666666666,\"#ed7953\"],[0.7777777777777778,\"#fb9f3a\"],[0.8888888888888888,\"#fdca26\"],[1.0,\"#f0f921\"]]}],\"choropleth\":[{\"type\":\"choropleth\",\"colorbar\":{\"outlinewidth\":0,\"ticks\":\"\"}}],\"histogram2d\":[{\"type\":\"histogram2d\",\"colorbar\":{\"outlinewidth\":0,\"ticks\":\"\"},\"colorscale\":[[0.0,\"#0d0887\"],[0.1111111111111111,\"#46039f\"],[0.2222222222222222,\"#7201a8\"],[0.3333333333333333,\"#9c179e\"],[0.4444444444444444,\"#bd3786\"],[0.5555555555555556,\"#d8576b\"],[0.6666666666666666,\"#ed7953\"],[0.7777777777777778,\"#fb9f3a\"],[0.8888888888888888,\"#fdca26\"],[1.0,\"#f0f921\"]]}],\"heatmap\":[{\"type\":\"heatmap\",\"colorbar\":{\"outlinewidth\":0,\"ticks\":\"\"},\"colorscale\":[[0.0,\"#0d0887\"],[0.1111111111111111,\"#46039f\"],[0.2222222222222222,\"#7201a8\"],[0.3333333333333333,\"#9c179e\"],[0.4444444444444444,\"#bd3786\"],[0.5555555555555556,\"#d8576b\"],[0.6666666666666666,\"#ed7953\"],[0.7777777777777778,\"#fb9f3a\"],[0.8888888888888888,\"#fdca26\"],[1.0,\"#f0f921\"]]}],\"heatmapgl\":[{\"type\":\"heatmapgl\",\"colorbar\":{\"outlinewidth\":0,\"ticks\":\"\"},\"colorscale\":[[0.0,\"#0d0887\"],[0.1111111111111111,\"#46039f\"],[0.2222222222222222,\"#7201a8\"],[0.3333333333333333,\"#9c179e\"],[0.4444444444444444,\"#bd3786\"],[0.5555555555555556,\"#d8576b\"],[0.6666666666666666,\"#ed7953\"],[0.7777777777777778,\"#fb9f3a\"],[0.8888888888888888,\"#fdca26\"],[1.0,\"#f0f921\"]]}],\"contourcarpet\":[{\"type\":\"contourcarpet\",\"colorbar\":{\"outlinewidth\":0,\"ticks\":\"\"}}],\"contour\":[{\"type\":\"contour\",\"colorbar\":{\"outlinewidth\":0,\"ticks\":\"\"},\"colorscale\":[[0.0,\"#0d0887\"],[0.1111111111111111,\"#46039f\"],[0.2222222222222222,\"#7201a8\"],[0.3333333333333333,\"#9c179e\"],[0.4444444444444444,\"#bd3786\"],[0.5555555555555556,\"#d8576b\"],[0.6666666666666666,\"#ed7953\"],[0.7777777777777778,\"#fb9f3a\"],[0.8888888888888888,\"#fdca26\"],[1.0,\"#f0f921\"]]}],\"surface\":[{\"type\":\"surface\",\"colorbar\":{\"outlinewidth\":0,\"ticks\":\"\"},\"colorscale\":[[0.0,\"#0d0887\"],[0.1111111111111111,\"#46039f\"],[0.2222222222222222,\"#7201a8\"],[0.3333333333333333,\"#9c179e\"],[0.4444444444444444,\"#bd3786\"],[0.5555555555555556,\"#d8576b\"],[0.6666666666666666,\"#ed7953\"],[0.7777777777777778,\"#fb9f3a\"],[0.8888888888888888,\"#fdca26\"],[1.0,\"#f0f921\"]]}],\"mesh3d\":[{\"type\":\"mesh3d\",\"colorbar\":{\"outlinewidth\":0,\"ticks\":\"\"}}],\"scatter\":[{\"fillpattern\":{\"fillmode\":\"overlay\",\"size\":10,\"solidity\":0.2},\"type\":\"scatter\"}],\"parcoords\":[{\"type\":\"parcoords\",\"line\":{\"colorbar\":{\"outlinewidth\":0,\"ticks\":\"\"}}}],\"scatterpolargl\":[{\"type\":\"scatterpolargl\",\"marker\":{\"colorbar\":{\"outlinewidth\":0,\"ticks\":\"\"}}}],\"bar\":[{\"error_x\":{\"color\":\"#2a3f5f\"},\"error_y\":{\"color\":\"#2a3f5f\"},\"marker\":{\"line\":{\"color\":\"#E5ECF6\",\"width\":0.5},\"pattern\":{\"fillmode\":\"overlay\",\"size\":10,\"solidity\":0.2}},\"type\":\"bar\"}],\"scattergeo\":[{\"type\":\"scattergeo\",\"marker\":{\"colorbar\":{\"outlinewidth\":0,\"ticks\":\"\"}}}],\"scatterpolar\":[{\"type\":\"scatterpolar\",\"marker\":{\"colorbar\":{\"outlinewidth\":0,\"ticks\":\"\"}}}],\"histogram\":[{\"marker\":{\"pattern\":{\"fillmode\":\"overlay\",\"size\":10,\"solidity\":0.2}},\"type\":\"histogram\"}],\"scattergl\":[{\"type\":\"scattergl\",\"marker\":{\"colorbar\":{\"outlinewidth\":0,\"ticks\":\"\"}}}],\"scatter3d\":[{\"type\":\"scatter3d\",\"line\":{\"colorbar\":{\"outlinewidth\":0,\"ticks\":\"\"}},\"marker\":{\"colorbar\":{\"outlinewidth\":0,\"ticks\":\"\"}}}],\"scattermapbox\":[{\"type\":\"scattermapbox\",\"marker\":{\"colorbar\":{\"outlinewidth\":0,\"ticks\":\"\"}}}],\"scatterternary\":[{\"type\":\"scatterternary\",\"marker\":{\"colorbar\":{\"outlinewidth\":0,\"ticks\":\"\"}}}],\"scattercarpet\":[{\"type\":\"scattercarpet\",\"marker\":{\"colorbar\":{\"outlinewidth\":0,\"ticks\":\"\"}}}],\"carpet\":[{\"aaxis\":{\"endlinecolor\":\"#2a3f5f\",\"gridcolor\":\"white\",\"linecolor\":\"white\",\"minorgridcolor\":\"white\",\"startlinecolor\":\"#2a3f5f\"},\"baxis\":{\"endlinecolor\":\"#2a3f5f\",\"gridcolor\":\"white\",\"linecolor\":\"white\",\"minorgridcolor\":\"white\",\"startlinecolor\":\"#2a3f5f\"},\"type\":\"carpet\"}],\"table\":[{\"cells\":{\"fill\":{\"color\":\"#EBF0F8\"},\"line\":{\"color\":\"white\"}},\"header\":{\"fill\":{\"color\":\"#C8D4E3\"},\"line\":{\"color\":\"white\"}},\"type\":\"table\"}],\"barpolar\":[{\"marker\":{\"line\":{\"color\":\"#E5ECF6\",\"width\":0.5},\"pattern\":{\"fillmode\":\"overlay\",\"size\":10,\"solidity\":0.2}},\"type\":\"barpolar\"}],\"pie\":[{\"automargin\":true,\"type\":\"pie\"}]},\"layout\":{\"autotypenumbers\":\"strict\",\"colorway\":[\"#636efa\",\"#EF553B\",\"#00cc96\",\"#ab63fa\",\"#FFA15A\",\"#19d3f3\",\"#FF6692\",\"#B6E880\",\"#FF97FF\",\"#FECB52\"],\"font\":{\"color\":\"#2a3f5f\"},\"hovermode\":\"closest\",\"hoverlabel\":{\"align\":\"left\"},\"paper_bgcolor\":\"white\",\"plot_bgcolor\":\"#E5ECF6\",\"polar\":{\"bgcolor\":\"#E5ECF6\",\"angularaxis\":{\"gridcolor\":\"white\",\"linecolor\":\"white\",\"ticks\":\"\"},\"radialaxis\":{\"gridcolor\":\"white\",\"linecolor\":\"white\",\"ticks\":\"\"}},\"ternary\":{\"bgcolor\":\"#E5ECF6\",\"aaxis\":{\"gridcolor\":\"white\",\"linecolor\":\"white\",\"ticks\":\"\"},\"baxis\":{\"gridcolor\":\"white\",\"linecolor\":\"white\",\"ticks\":\"\"},\"caxis\":{\"gridcolor\":\"white\",\"linecolor\":\"white\",\"ticks\":\"\"}},\"coloraxis\":{\"colorbar\":{\"outlinewidth\":0,\"ticks\":\"\"}},\"colorscale\":{\"sequential\":[[0.0,\"#0d0887\"],[0.1111111111111111,\"#46039f\"],[0.2222222222222222,\"#7201a8\"],[0.3333333333333333,\"#9c179e\"],[0.4444444444444444,\"#bd3786\"],[0.5555555555555556,\"#d8576b\"],[0.6666666666666666,\"#ed7953\"],[0.7777777777777778,\"#fb9f3a\"],[0.8888888888888888,\"#fdca26\"],[1.0,\"#f0f921\"]],\"sequentialminus\":[[0.0,\"#0d0887\"],[0.1111111111111111,\"#46039f\"],[0.2222222222222222,\"#7201a8\"],[0.3333333333333333,\"#9c179e\"],[0.4444444444444444,\"#bd3786\"],[0.5555555555555556,\"#d8576b\"],[0.6666666666666666,\"#ed7953\"],[0.7777777777777778,\"#fb9f3a\"],[0.8888888888888888,\"#fdca26\"],[1.0,\"#f0f921\"]],\"diverging\":[[0,\"#8e0152\"],[0.1,\"#c51b7d\"],[0.2,\"#de77ae\"],[0.3,\"#f1b6da\"],[0.4,\"#fde0ef\"],[0.5,\"#f7f7f7\"],[0.6,\"#e6f5d0\"],[0.7,\"#b8e186\"],[0.8,\"#7fbc41\"],[0.9,\"#4d9221\"],[1,\"#276419\"]]},\"xaxis\":{\"gridcolor\":\"white\",\"linecolor\":\"white\",\"ticks\":\"\",\"title\":{\"standoff\":15},\"zerolinecolor\":\"white\",\"automargin\":true,\"zerolinewidth\":2},\"yaxis\":{\"gridcolor\":\"white\",\"linecolor\":\"white\",\"ticks\":\"\",\"title\":{\"standoff\":15},\"zerolinecolor\":\"white\",\"automargin\":true,\"zerolinewidth\":2},\"scene\":{\"xaxis\":{\"backgroundcolor\":\"#E5ECF6\",\"gridcolor\":\"white\",\"linecolor\":\"white\",\"showbackground\":true,\"ticks\":\"\",\"zerolinecolor\":\"white\",\"gridwidth\":2},\"yaxis\":{\"backgroundcolor\":\"#E5ECF6\",\"gridcolor\":\"white\",\"linecolor\":\"white\",\"showbackground\":true,\"ticks\":\"\",\"zerolinecolor\":\"white\",\"gridwidth\":2},\"zaxis\":{\"backgroundcolor\":\"#E5ECF6\",\"gridcolor\":\"white\",\"linecolor\":\"white\",\"showbackground\":true,\"ticks\":\"\",\"zerolinecolor\":\"white\",\"gridwidth\":2}},\"shapedefaults\":{\"line\":{\"color\":\"#2a3f5f\"}},\"annotationdefaults\":{\"arrowcolor\":\"#2a3f5f\",\"arrowhead\":0,\"arrowwidth\":1},\"geo\":{\"bgcolor\":\"white\",\"landcolor\":\"#E5ECF6\",\"subunitcolor\":\"white\",\"showland\":true,\"showlakes\":true,\"lakecolor\":\"white\"},\"title\":{\"x\":0.05},\"mapbox\":{\"style\":\"light\"}}},\"margin\":{\"r\":20,\"b\":10,\"l\":10,\"t\":40},\"title\":{\"text\":\"3D FAISS Vector Store Visualization\"},\"scene\":{\"xaxis\":{\"title\":{\"text\":\"x\"}},\"yaxis\":{\"title\":{\"text\":\"y\"}},\"zaxis\":{\"title\":{\"text\":\"z\"}}},\"width\":900,\"height\":700},                        {\"responsive\": true}                    ).then(function(){\n",
       "                            \n",
       "var gd = document.getElementById('b401f025-4ea0-49cc-bc5c-4ed490739ed8');\n",
       "var x = new MutationObserver(function (mutations, observer) {{\n",
       "        var display = window.getComputedStyle(gd).display;\n",
       "        if (!display || display === 'none') {{\n",
       "            console.log([gd, 'removed!']);\n",
       "            Plotly.purge(gd);\n",
       "            observer.disconnect();\n",
       "        }}\n",
       "}});\n",
       "\n",
       "// Listen for the removal of the full notebook cells\n",
       "var notebookContainer = gd.closest('#notebook-container');\n",
       "if (notebookContainer) {{\n",
       "    x.observe(notebookContainer, {childList: true});\n",
       "}}\n",
       "\n",
       "// Listen for the clearing of the current output cell\n",
       "var outputEl = gd.closest('.output');\n",
       "if (outputEl) {{\n",
       "    x.observe(outputEl, {childList: true});\n",
       "}}\n",
       "\n",
       "                        })                };                });            </script>        </div>"
      ]
     },
     "metadata": {},
     "output_type": "display_data"
    }
   ],
   "source": [
    "# 3d\n",
    "tsne = TSNE(n_components=3, random_state=42)\n",
    "reduced_vectors = tsne.fit_transform(vectors)\n",
    "\n",
    "# Create the 3D scatter plot\n",
    "fig = go.Figure(data=[go.Scatter3d(\n",
    "    x=reduced_vectors[:, 0],\n",
    "    y=reduced_vectors[:, 1],\n",
    "    z=reduced_vectors[:, 2],\n",
    "    mode='markers',\n",
    "    marker=dict(size=5, color=colors, opacity=0.8),\n",
    "    text=[f\"Type: {t}<br>Text: {d[:100]}...\" for t, d in zip(doc_types, documents)],\n",
    "    hoverinfo='text'\n",
    ")])\n",
    "\n",
    "fig.update_layout(\n",
    "    title='3D FAISS Vector Store Visualization',\n",
    "    scene=dict(xaxis_title='x', yaxis_title='y', zaxis_title='z'),\n",
    "    width=900,\n",
    "    height=700,\n",
    "    margin=dict(r=20, b=10, l=10, t=40)\n",
    ")\n",
    "\n",
    "fig.show()"
   ]
  },
  {
   "cell_type": "markdown",
   "id": "9468860b-86a2-41df-af01-b2400cc985be",
   "metadata": {},
   "source": [
    "## LangChain"
   ]
  },
  {
   "cell_type": "code",
   "execution_count": 18,
   "id": "129c7d1e-0094-4479-9459-f9360b95f244",
   "metadata": {},
   "outputs": [],
   "source": [
    "# create a new Chat with OpenAI\n",
    "llm = ChatOpenAI(temperature=0.7, model_name=MODEL)\n",
    "\n",
    "# set up the conversation memory for the chat\n",
    "memory = ConversationBufferMemory(memory_key='chat_history', return_messages=True)\n",
    "\n",
    "# the retriever is an abstraction over the VectorStore that will be used during RAG\n",
    "retriever = vectorstore.as_retriever()\n",
    "\n",
    "# putting it together: set up the conversation chain with the GPT 3.5 LLM, the vector store and memory\n",
    "conversation_chain = ConversationalRetrievalChain.from_llm(llm=llm, retriever=retriever, memory=memory)"
   ]
  },
  {
   "cell_type": "code",
   "execution_count": 19,
   "id": "968e7bf2-e862-4679-a11f-6c1efb6ec8ca",
   "metadata": {},
   "outputs": [
    {
     "name": "stdout",
     "output_type": "stream",
     "text": [
      "Insurellm is an innovative insurance tech startup founded by Avery Lancaster in 2015, aimed at disrupting the insurance industry with its range of software products. The company, which has grown to 200 employees and operates 12 offices across the US by 2024, offers four main products: Carllm for auto insurance, Homellm for home insurance, Rellm for the reinsurance sector, and Marketllm, a marketplace connecting consumers with insurance providers. With over 300 clients worldwide, Insurellm focuses on delivering reliable and transformative solutions in the insurance market.\n"
     ]
    }
   ],
   "source": [
    "query = \"Can you describe Insurellm in a few sentences\"\n",
    "result = conversation_chain.invoke({\"question\":query})\n",
    "print(result[\"answer\"])"
   ]
  },
  {
   "cell_type": "markdown",
   "id": "bbbcb659-13ce-47ab-8a5e-01b930494964",
   "metadata": {},
   "source": [
    "## Gradio using the Chat interface\n"
   ]
  },
  {
   "cell_type": "code",
   "execution_count": 20,
   "id": "c3536590-85c7-4155-bd87-ae78a1467670",
   "metadata": {},
   "outputs": [],
   "source": [
    "# Wrapping that in a function\n",
    "\n",
    "def chat(message, history):\n",
    "    result = conversation_chain.invoke({\"question\": message})\n",
    "    return result[\"answer\"]"
   ]
  },
  {
   "cell_type": "code",
   "execution_count": 26,
   "id": "b252d8c1-61a8-406d-b57a-8f708a62b014",
   "metadata": {},
   "outputs": [
    {
     "name": "stdout",
     "output_type": "stream",
     "text": [
      "* Running on local URL:  http://127.0.0.1:7895\n",
      "\n",
      "To create a public link, set `share=True` in `launch()`.\n"
     ]
    },
    {
     "data": {
      "text/html": [
       "<div><iframe src=\"http://127.0.0.1:7895/\" width=\"100%\" height=\"500\" allow=\"autoplay; camera; microphone; clipboard-read; clipboard-write;\" frameborder=\"0\" allowfullscreen></iframe></div>"
      ],
      "text/plain": [
       "<IPython.core.display.HTML object>"
      ]
     },
     "metadata": {},
     "output_type": "display_data"
    },
    {
     "data": {
      "text/plain": []
     },
     "execution_count": 26,
     "metadata": {},
     "output_type": "execute_result"
    }
   ],
   "source": [
    "#view = gr.ChatInterface(chat).launch()\n",
    "# \n",
    "gr.ChatInterface(fn=chat, type= \"messages\").launch()"
   ]
  },
  {
   "cell_type": "code",
   "execution_count": null,
   "id": "ebe428a4-7cd9-448f-8246-b5a4e6373752",
   "metadata": {},
   "outputs": [],
   "source": []
  }
 ],
 "metadata": {
  "kernelspec": {
   "display_name": "Python 3 (ipykernel)",
   "language": "python",
   "name": "python3"
  },
  "language_info": {
   "codemirror_mode": {
    "name": "ipython",
    "version": 3
   },
   "file_extension": ".py",
   "mimetype": "text/x-python",
   "name": "python",
   "nbconvert_exporter": "python",
   "pygments_lexer": "ipython3",
   "version": "3.11.10"
  }
 },
 "nbformat": 4,
 "nbformat_minor": 5
}
